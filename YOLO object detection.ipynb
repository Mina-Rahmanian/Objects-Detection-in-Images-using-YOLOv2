{
  "nbformat": 4,
  "nbformat_minor": 0,
  "metadata": {
    "colab": {
      "name": "YOLO-objectdetection-Mina.ipynb",
      "provenance": [],
      "collapsed_sections": []
    },
    "kernelspec": {
      "name": "python3",
      "display_name": "Python 3"
    },
    "accelerator": "GPU"
  },
  "cells": [
    {
      "cell_type": "markdown",
      "metadata": {
        "id": "P5cfv5mEl_Se"
      },
      "source": [
        "# Object Detection with Yolo'v2 for PASCAL VOC 2012 dataset\n",
        "\n",
        "Mina Rahmanian \n",
        "\n",
        "---\n",
        "\n",
        "\n"
      ]
    },
    {
      "cell_type": "code",
      "metadata": {
        "id": "7SLh6Pigc4rn"
      },
      "source": [
        "'''''''''''''''''''''''''''''''''''''''''''''' ** Anchor box & input and output ** '''''''''''''''''''''''''''''''''''''''''''"
      ],
      "execution_count": null,
      "outputs": []
    },
    {
      "cell_type": "code",
      "metadata": {
        "id": "yT0Fw7eV6c8D",
        "outputId": "661b8e76-e37d-4a34-af6f-b4da4bc7618a",
        "colab": {
          "base_uri": "https://localhost:8080/",
          "height": 35
        }
      },
      "source": [
        "cd /content/drive/My Drive/YOLO-objectdetection-Mina"
      ],
      "execution_count": null,
      "outputs": [
        {
          "output_type": "stream",
          "text": [
            "/content/drive/My Drive/YOLO-objectdetection-Mina\n"
          ],
          "name": "stdout"
        }
      ]
    },
    {
      "cell_type": "code",
      "metadata": {
        "id": "INy0k4W7982z",
        "outputId": "61c8a649-973f-4959-eda3-77bdb95032c0",
        "colab": {
          "base_uri": "https://localhost:8080/",
          "height": 35
        }
      },
      "source": [
        "%tensorflow_version 1.x"
      ],
      "execution_count": null,
      "outputs": [
        {
          "output_type": "stream",
          "text": [
            "TensorFlow 1.x selected.\n"
          ],
          "name": "stdout"
        }
      ]
    },
    {
      "cell_type": "code",
      "metadata": {
        "id": "GBj1VQWT-AhW"
      },
      "source": [
        "import tensorflow as tf\n",
        "import tensorflow\n",
        "import numpy as np"
      ],
      "execution_count": null,
      "outputs": []
    },
    {
      "cell_type": "code",
      "metadata": {
        "id": "U8ggnYbGH_cj",
        "outputId": "67304ef5-672d-4284-ce24-0809df499003",
        "colab": {
          "base_uri": "https://localhost:8080/",
          "height": 218
        }
      },
      "source": [
        "# Download dataset directly from website and then untar\n",
        "!wget http://host.robots.ox.ac.uk/pascal/VOC/voc2012/VOCtrainval_11-May-2012.tar -O ./voc2012_raw.tar\n",
        "!mkdir -p ./voc2012_raw\n",
        "!tar -xf ./voc2012_raw.tar -C ./voc2012_raw"
      ],
      "execution_count": null,
      "outputs": [
        {
          "output_type": "stream",
          "text": [
            "--2020-03-30 01:04:52--  http://host.robots.ox.ac.uk/pascal/VOC/voc2012/VOCtrainval_11-May-2012.tar\n",
            "Resolving host.robots.ox.ac.uk (host.robots.ox.ac.uk)... 129.67.94.152\n",
            "Connecting to host.robots.ox.ac.uk (host.robots.ox.ac.uk)|129.67.94.152|:80... connected.\n",
            "HTTP request sent, awaiting response... 200 OK\n",
            "Length: 1999639040 (1.9G) [application/x-tar]\n",
            "Saving to: ‘./voc2012_raw.tar’\n",
            "\n",
            "./voc2012_raw.tar   100%[===================>]   1.86G  4.37MB/s    in 7m 18s  \n",
            "\n",
            "2020-03-30 01:12:11 (4.35 MB/s) - ‘./voc2012_raw.tar’ saved [1999639040/1999639040]\n",
            "\n"
          ],
          "name": "stdout"
        }
      ]
    },
    {
      "cell_type": "code",
      "metadata": {
        "id": "RZS4fbC-EMjy"
      },
      "source": [
        "!ls\n",
        "\n",
        "import tensorflow as tf\n",
        "tf.__version__"
      ],
      "execution_count": null,
      "outputs": []
    },
    {
      "cell_type": "code",
      "metadata": {
        "id": "HybcB2xy96Rl"
      },
      "source": [
        "# 20 type of labels/class name in VOC2012 dataset that exists\n",
        "LABELS = ['aeroplane', 'bicycle', 'bird', 'boat', 'bottle', 'bus', 'car', 'cat', 'chair', 'cow', 'diningtable',\n",
        "          'dog', 'horse', 'motorbike', 'person', 'pottedplant', 'sheep', 'sofa', 'train', 'tvmonitor']"
      ],
      "execution_count": null,
      "outputs": []
    },
    {
      "cell_type": "code",
      "metadata": {
        "id": "idzkxTbw99LR"
      },
      "source": [
        "# Saved VOC2012 dataset in \n",
        "train_image_folder = \"/content/drive/My Drive/YOLO-objectdetection-Mina/voc2012_raw/VOCdevkit/VOC2012/JPEGImages/\"\n",
        "train_annot_folder = \"/content/drive/My Drive/YOLO-objectdetection-Mina/voc2012_raw/VOCdevkit/VOC2012/Annotations/\""
      ],
      "execution_count": null,
      "outputs": []
    },
    {
      "cell_type": "code",
      "metadata": {
        "id": "rb9T1UEI-qf2",
        "outputId": "fb23aa01-7e66-4169-cfcd-1e4d567de69e",
        "colab": {
          "base_uri": "https://localhost:8080/",
          "height": 54
        }
      },
      "source": [
        "import matplotlib.pyplot as plt # for plotting\n",
        "import numpy as np # an alias for the namespace will be created in functions that are in the numpy module \n",
        "import os, cv2 #  OpenCV releases two types of Python interfaces, cv and cv2\n",
        "import sys # import the relevant to the system of my computer, allowing your Python program to interact with it in a broader way.\n",
        "print(sys.version)\n",
        "%matplotlib inline"
      ],
      "execution_count": null,
      "outputs": [
        {
          "output_type": "stream",
          "text": [
            "3.6.9 (default, Nov  7 2019, 10:44:02) \n",
            "[GCC 8.3.0]\n"
          ],
          "name": "stdout"
        }
      ]
    },
    {
      "cell_type": "code",
      "metadata": {
        "id": "NLlBUpE2-uBF"
      },
      "source": [
        "# Preprocess the Annotations  - https://github.com/experiencor/keras-yolo2\n",
        "import xml.etree.ElementTree as ET  # module implements a simple and efficient API for parsing and creating XML data\n",
        "\n",
        "def parse_annotation(ann_dir, img_dir, labels=[]):\n",
        "\n",
        "    all_imgs = []\n",
        "    seen_labels = {}\n",
        "    \n",
        "    for ann in sorted(os.listdir(ann_dir)): # Return a list containing the names of the entries in the directory given by ann_dir (ann_dir : This is the directory, which needs to be explored).\n",
        "        if \"xml\" not in ann:\n",
        "            continue\n",
        "        img = {'object':[]}\n",
        "\n",
        "        tree = ET.parse(ann_dir + ann) # Reading the data from (ann_dir + ann)\n",
        "        \n",
        "        for elem in tree.iter(): # Element has some useful methods that help iterate recursively over all the sub-tree below it,e.g Element.iter()\n",
        "            if 'filename' in elem.tag:\n",
        "                path_to_image = img_dir + elem.text\n",
        "                img['filename'] = path_to_image\n",
        "                # Image exists\n",
        "                if not os.path.exists(path_to_image):\n",
        "                    assert False, \"file does not exist!\\n{}\".format(path_to_image) # Assert keyword lets you test if a condition in your code returns True, if not, the program will raise an AssertionError.\n",
        "            if 'width' in elem.tag:\n",
        "                img['width'] = int(elem.text)\n",
        "            if 'height' in elem.tag:\n",
        "                img['height'] = int(elem.text)\n",
        "            if 'object' in elem.tag or 'part' in elem.tag:\n",
        "                obj = {}\n",
        "                \n",
        "                for attr in list(elem):\n",
        "                    if 'name' in attr.tag:\n",
        "                        \n",
        "                        obj['name'] = attr.text\n",
        "                        \n",
        "                        if len(labels) > 0 and obj['name'] not in labels:\n",
        "                            break\n",
        "                        else:\n",
        "                            img['object'] += [obj]\n",
        "                            \n",
        "                        \n",
        "\n",
        "                        if obj['name'] in seen_labels:\n",
        "                            seen_labels[obj['name']] += 1\n",
        "                        else:\n",
        "                            seen_labels[obj['name']]  = 1\n",
        "                        \n",
        "\n",
        "                            \n",
        "                    if 'bndbox' in attr.tag:\n",
        "                        for dim in list(attr):\n",
        "                            if 'xmin' in dim.tag:\n",
        "                                obj['xmin'] = int(round(float(dim.text)))\n",
        "                            if 'ymin' in dim.tag:\n",
        "                                obj['ymin'] = int(round(float(dim.text)))\n",
        "                            if 'xmax' in dim.tag:\n",
        "                                obj['xmax'] = int(round(float(dim.text)))\n",
        "                            if 'ymax' in dim.tag:\n",
        "                                obj['ymax'] = int(round(float(dim.text)))\n",
        "\n",
        "        if len(img['object']) > 0:\n",
        "            all_imgs += [img]\n",
        "                        \n",
        "    return all_imgs, seen_labels\n"
      ],
      "execution_count": null,
      "outputs": []
    },
    {
      "cell_type": "code",
      "metadata": {
        "id": "RXF0fI-GF6lY",
        "outputId": "601987c2-57bf-4b57-c9d8-b60d3818bee8",
        "colab": {
          "base_uri": "https://localhost:8080/",
          "height": 74
        }
      },
      "source": [
        "# Preprocess annotations \n",
        "np.random.seed(10)\n",
        "train_image = []\n",
        "seen_train_labels = {}\n",
        "\n",
        "train_image, seen_train_labels = parse_annotation(train_annot_folder,train_image_folder, labels=LABELS)\n",
        "print(\"Number of image for train = {}\".format(len(train_image)))\n",
        "\n",
        "'''\n",
        "   - Each of the train_image is a dictionary containing the annoation infomation of an image.\n",
        "   - seen_train_labels is the dictionary containing (key, value) = (object class, number of objects found in the images)\n",
        "'''\n",
        "# Number of image for train = 17125"
      ],
      "execution_count": null,
      "outputs": [
        {
          "output_type": "stream",
          "text": [
            "Number of image for train = 17125\n"
          ],
          "name": "stdout"
        },
        {
          "output_type": "execute_result",
          "data": {
            "text/plain": [
              "'\\n   - Each of the train_image is a dictionary containing the annoation infomation of an image.\\n   - seen_train_labels is the dictionary containing (key, value) = (object class, number of objects found in the images)\\n'"
            ]
          },
          "metadata": {
            "tags": []
          },
          "execution_count": 9
        }
      ]
    },
    {
      "cell_type": "code",
      "metadata": {
        "id": "sANQRbxUNek-"
      },
      "source": [
        "#train_image[:1]"
      ],
      "execution_count": null,
      "outputs": []
    },
    {
      "cell_type": "code",
      "metadata": {
        "id": "RYvsSrnWWsLW"
      },
      "source": [
        "import copy\n",
        "\n",
        "class ImageReader(object): # first step of input and output encoding\n",
        "\n",
        "    def __init__(self,IMAGE_H,IMAGE_W, norm=None):\n",
        "\n",
        "        self.IMAGE_H = IMAGE_H # the height of the rescaled image, e.g 416\n",
        "        self.IMAGE_W = IMAGE_W # the width of the rescaled image, e.g 416\n",
        "        self.norm    = norm\n",
        "        \n",
        "    def encode_core(self,image, reorder_rgb=True): # resize the image to standard size     \n",
        "        \n",
        "        image = cv2.resize(image, (self.IMAGE_H, self.IMAGE_W))\n",
        "        if reorder_rgb:\n",
        "            image = image[:,:,::-1]\n",
        "        if self.norm is not None:\n",
        "            image = self.norm(image)\n",
        "        return(image)\n",
        "    \n",
        "    def fit(self,train_instance): # read in and resize the image, annotations are resized accordingly.\n",
        "                                  # train_instance : dictionary containing filename, height, width and object\n",
        "\n",
        "        if not isinstance(train_instance,dict):\n",
        "            train_instance = {'filename':train_instance}\n",
        "                \n",
        "        image_name = train_instance['filename']\n",
        "        image = cv2.imread(image_name) # cv2.imread() : A library of Python bindings designed to solve computer vision problems. loads an image from the image_name.\n",
        "        h, w, c = image.shape \n",
        "        if image is None: print('Cannot find ', image_name)\n",
        "      \n",
        "        image = self.encode_core(image, reorder_rgb=True)\n",
        "            \n",
        "        if \"object\" in train_instance.keys():\n",
        "            \n",
        "            all_objs = copy.deepcopy(train_instance['object'])     \n",
        "\n",
        "            # fix object's position and size\n",
        "            for obj in all_objs:\n",
        "                for attr in ['xmin', 'xmax']:\n",
        "                    obj[attr] = int(obj[attr] * float(self.IMAGE_W) / w)\n",
        "                    obj[attr] = max(min(obj[attr], self.IMAGE_W), 0)\n",
        "\n",
        "                for attr in ['ymin', 'ymax']:\n",
        "                    obj[attr] = int(obj[attr] * float(self.IMAGE_H) / h)\n",
        "                    obj[attr] = max(min(obj[attr], self.IMAGE_H), 0)\n",
        "        else:\n",
        "            return image\n",
        "        return image, all_objs"
      ],
      "execution_count": null,
      "outputs": []
    },
    {
      "cell_type": "code",
      "metadata": {
        "id": "FzBt3imHWwQF",
        "outputId": "e22039fb-e656-4ce5-ef84-85234e2a9a0e",
        "colab": {
          "base_uri": "https://localhost:8080/",
          "height": 445
        }
      },
      "source": [
        "# e.g of Input and output encoder 25th image\n",
        "\n",
        "def normalize(image): # Normalize the image\n",
        "    return image / 255.\n",
        "\n",
        "print(\"*\"*30)\n",
        "print(\"Input\")\n",
        "timage = train_image[25]\n",
        "for key, v in timage.items():\n",
        "    print(\"  {}: {}\".format(key,v))\n",
        "    \n",
        "print(\"*\"*30)\n",
        "print(\"Output\")\n",
        "inputEncoder = ImageReader(IMAGE_H=416,IMAGE_W=416, norm=normalize)\n",
        "image, all_objs = inputEncoder.fit(timage)\n",
        "print(\"          {}\".format(all_objs))\n",
        "plt.imshow(image)\n",
        "plt.title(\"image.shape={}\".format(image.shape))\n",
        "plt.show()\n",
        "\n",
        "# original image is size - input (332,500,3). xmin, xmax, ymin and ymax is for two class (100,96,355,324) & (198,58,286,197)\n",
        "# encoded image is of shape - output (416,416,3). xmin, xmax, ymin and ymax is for two class (83,120,295,405) & (164,72,237,246)\n"
      ],
      "execution_count": null,
      "outputs": [
        {
          "output_type": "stream",
          "text": [
            "******************************\n",
            "Input\n",
            "  object: [{'name': 'horse', 'xmin': 100, 'ymin': 96, 'xmax': 355, 'ymax': 324}, {'name': 'person', 'xmin': 198, 'ymin': 58, 'xmax': 286, 'ymax': 197}]\n",
            "  filename: /content/drive/My Drive/YOLO-objectdetection-Mina/voc2012_raw/VOCdevkit/VOC2012/JPEGImages/2007_000392.jpg\n",
            "  width: 500\n",
            "  height: 332\n",
            "******************************\n",
            "Output\n",
            "          [{'name': 'horse', 'xmin': 83, 'ymin': 120, 'xmax': 295, 'ymax': 405}, {'name': 'person', 'xmin': 164, 'ymin': 72, 'xmax': 237, 'ymax': 246}]\n"
          ],
          "name": "stdout"
        },
        {
          "output_type": "display_data",
          "data": {
            "image/png": "[encoded data removed]",
            "text/plain": [
              "<Figure size 432x288 with 1 Axes>"
            ]
          },
          "metadata": {
            "tags": []
          }
        }
      ]
    },
    {
      "cell_type": "code",
      "metadata": {
        "id": "Qjs-__82XdVW"
      },
      "source": [
        "#  Find the best anchor boxes from between two anchor boxes\n",
        "\n",
        "class BestAnchorBoxFinder(object): # find best anchore box in this class\n",
        "\n",
        "\n",
        "    def __init__(self, ANCHORS): #  ANCHORS: a np.array of even number length\n",
        "\n",
        "        self.anchors = [BoundBox(0, 0, ANCHORS[2*i], ANCHORS[2*i+1]) \n",
        "                        for i in range(int(len(ANCHORS)//2))]\n",
        "        \n",
        "    def _interval_overlap(self,interval_a, interval_b):\n",
        "        x1, x2 = interval_a\n",
        "        x3, x4 = interval_b\n",
        "        if x3 < x1:\n",
        "            if x4 < x1:\n",
        "                return 0\n",
        "            else:\n",
        "                return min(x2,x4) - x1\n",
        "        else:\n",
        "            if x2 < x3:\n",
        "                 return 0\n",
        "            else:\n",
        "                return min(x2,x4) - x3  \n",
        "\n",
        "    def bbox_iou(self,box1, box2): # bound boxing by using IOU \n",
        "        intersect_w = self._interval_overlap([box1.xmin, box1.xmax], [box2.xmin, box2.xmax])\n",
        "        intersect_h = self._interval_overlap([box1.ymin, box1.ymax], [box2.ymin, box2.ymax])  \n",
        "\n",
        "        intersect = intersect_w * intersect_h\n",
        "\n",
        "        w1, h1 = box1.xmax-box1.xmin, box1.ymax-box1.ymin\n",
        "        w2, h2 = box2.xmax-box2.xmin, box2.ymax-box2.ymin\n",
        "\n",
        "        union = w1*h1 + w2*h2 - intersect\n",
        "\n",
        "        return float(intersect) / union\n",
        "    \n",
        "    def find(self,center_w, center_h):  # find the anchor that best predicts this box\n",
        "       \n",
        "        best_anchor = -1\n",
        "        max_iou     = -1\n",
        "        # each Anchor box have a certain shape. flat, large rectangle, or small square\n",
        "        shifted_box = BoundBox(0, 0,center_w, center_h)\n",
        "        \n",
        "        for i in range(len(self.anchors)): # run through each anchor box\n",
        "            anchor = self.anchors[i]\n",
        "            iou    = self.bbox_iou(shifted_box, anchor)\n",
        "            if max_iou < iou:\n",
        "                best_anchor = i\n",
        "                max_iou     = iou\n",
        "        return(best_anchor,max_iou)    \n",
        "    \n",
        "    \n",
        "class BoundBox:\n",
        "    def __init__(self, xmin, ymin, xmax, ymax, confidence=None,classes=None):\n",
        "\n",
        "        self.xmin, self.ymin = xmin, ymin\n",
        "        self.xmax, self.ymax = xmax, ymax\n",
        "        self.confidence      = confidence # probability\n",
        "        self.set_class(classes)  # class probaiblities [c1, c2, .. c Nclass]\n",
        "        \n",
        "    def set_class(self,classes):\n",
        "        self.classes = classes\n",
        "        self.label   = np.argmax(self.classes) #  probaiblities [c1, c2, .. c Nclass]\n",
        "        \n",
        "    def get_label(self):  \n",
        "        return(self.label)\n",
        "    \n",
        "    def get_score(self):\n",
        "        return(self.classes[self.label])"
      ],
      "execution_count": null,
      "outputs": []
    },
    {
      "cell_type": "code",
      "metadata": {
        "id": "hc2cDviJXfeC",
        "outputId": "9d0271b8-95d9-4a92-911a-31418a6f061f",
        "colab": {
          "base_uri": "https://localhost:8080/",
          "height": 454
        }
      },
      "source": [
        "#  e.g of using four anchor boxes (width and height)\n",
        "\n",
        "_ANCHORS01 = np.array([0.08285376, 0.13705531, # tiny anchor box\n",
        "                       0.20850361, 0.39420716, # small anchor box\n",
        "                       0.80552421, 0.77665105, # large anchor box\n",
        "                       0.42194719, 0.62385487]) # medium tall anchor box\n",
        "\n",
        "print(\"..\"*40)\n",
        "print(\"The three example anchor boxes:\")\n",
        "count = 0\n",
        "\n",
        "\n",
        "for i in range(0,len(_ANCHORS01),2):\n",
        "    print(\"anchor box index={}, w={}, h={}\".format(count,_ANCHORS01[i],_ANCHORS01[i+1]))\n",
        "    count += 1\n",
        "\n",
        "    \n",
        "print(\"..\"*40)   \n",
        "print(\"Allocate bounding box of various width and height into the three anchor boxes:\")  \n",
        "babf = BestAnchorBoxFinder(_ANCHORS01)\n",
        "\n",
        "\n",
        "for w in range(1,9,2):\n",
        "    w /= 10.\n",
        "    for h in range(1,9,2):\n",
        "        h /= 10.\n",
        "        best_anchor,max_iou = babf.find(w,h)\n",
        "        print(\"bounding box (w = {}, h = {}) --> best anchor box index = {}, iou = {:03.2f}\".format(w,h,best_anchor,max_iou))\n",
        "       "
      ],
      "execution_count": null,
      "outputs": [
        {
          "output_type": "stream",
          "text": [
            "................................................................................\n",
            "The three example anchor boxes:\n",
            "anchor box index=0, w=0.08285376, h=0.13705531\n",
            "anchor box index=1, w=0.20850361, h=0.39420716\n",
            "anchor box index=2, w=0.80552421, h=0.77665105\n",
            "anchor box index=3, w=0.42194719, h=0.62385487\n",
            "................................................................................\n",
            "Allocate bounding box of various width and height into the three anchor boxes:\n",
            "bounding box (w = 0.1, h = 0.1) --> best anchor box index = 0, iou = 0.63\n",
            "bounding box (w = 0.1, h = 0.3) --> best anchor box index = 0, iou = 0.38\n",
            "bounding box (w = 0.1, h = 0.5) --> best anchor box index = 1, iou = 0.42\n",
            "bounding box (w = 0.1, h = 0.7) --> best anchor box index = 1, iou = 0.35\n",
            "bounding box (w = 0.3, h = 0.1) --> best anchor box index = 0, iou = 0.25\n",
            "bounding box (w = 0.3, h = 0.3) --> best anchor box index = 1, iou = 0.57\n",
            "bounding box (w = 0.3, h = 0.5) --> best anchor box index = 3, iou = 0.57\n",
            "bounding box (w = 0.3, h = 0.7) --> best anchor box index = 3, iou = 0.65\n",
            "bounding box (w = 0.5, h = 0.1) --> best anchor box index = 1, iou = 0.19\n",
            "bounding box (w = 0.5, h = 0.3) --> best anchor box index = 3, iou = 0.44\n",
            "bounding box (w = 0.5, h = 0.5) --> best anchor box index = 3, iou = 0.70\n",
            "bounding box (w = 0.5, h = 0.7) --> best anchor box index = 3, iou = 0.75\n",
            "bounding box (w = 0.7, h = 0.1) --> best anchor box index = 1, iou = 0.16\n",
            "bounding box (w = 0.7, h = 0.3) --> best anchor box index = 3, iou = 0.37\n",
            "bounding box (w = 0.7, h = 0.5) --> best anchor box index = 2, iou = 0.56\n",
            "bounding box (w = 0.7, h = 0.7) --> best anchor box index = 2, iou = 0.78\n"
          ],
          "name": "stdout"
        }
      ]
    },
    {
      "cell_type": "code",
      "metadata": {
        "id": "zXFL5CtRXvN0"
      },
      "source": [
        "\n",
        "def rescale_centerxy(obj,config): # obj: dictionary (xmin, xmax, ymin, ymax)\n",
        "                                  # config: dictionary (IMAGE_W, GRID_W, IMAGE_H and GRID_H)\n",
        "\n",
        "    center_x = .5*(obj['xmin'] + obj['xmax']) # 1/2 * (xmin + xmax)\n",
        "    center_x = center_x / (float(config['IMAGE_W']) / config['GRID_W']) \n",
        "\n",
        "    center_y = .5*(obj['ymin'] + obj['ymax']) # 1/2 * (ymin + ymax)\n",
        "    center_y = center_y / (float(config['IMAGE_H']) / config['GRID_H'])\n",
        "    return(center_x,center_y)\n",
        "\n",
        "def rescale_cebterwh(obj,config): # YOLO devides an image into grid cells (e.g. 13 by 13 grid cells)\n",
        " \n",
        "    # unit: grid cell \n",
        "    center_w = (obj['xmax'] - obj['xmin']) / (float(config['IMAGE_W']) / config['GRID_W']) # (xmax - xmin)\n",
        "    # unit: grid cell\n",
        "    center_h = (obj['ymax'] - obj['ymin']) / (float(config['IMAGE_H']) / config['GRID_H']) # (ymax - ymin)\n",
        "    return(center_w,center_h)"
      ],
      "execution_count": null,
      "outputs": []
    },
    {
      "cell_type": "code",
      "metadata": {
        "id": "PiaaVHVdXycd",
        "outputId": "6163933d-33de-4bf1-a0a9-5ccefa1aa66f",
        "colab": {
          "base_uri": "https://localhost:8080/",
          "height": 127
        }
      },
      "source": [
        "# e.g of rescale_center xy and rescale_center wh\n",
        "\n",
        "obj    = {'xmin': 150, 'ymin': 84, 'xmax': 300, 'ymax': 294}\n",
        "config = {\"IMAGE_W\":416,\"IMAGE_H\":416,\"GRID_W\":13,\"GRID_H\":13} # GRID_W & GRID_H are ranging between [0, N grid h)\n",
        "\n",
        "center_x, center_y = rescale_centerxy(obj,config)\n",
        "center_w, center_h = rescale_cebterwh(obj,config)\n",
        "\n",
        "print(\"cebter_x abd cebter_w should range between 0 and {}\".format(config[\"GRID_W\"]))\n",
        "print(\"cebter_y abd cebter_h should range between 0 and {}\".format(config[\"GRID_H\"]))\n",
        "\n",
        "print(\"center_x = {:06.3f} range between 0 and {}\".format(center_x, config[\"GRID_W\"]))\n",
        "print(\"center_y = {:06.3f} range between 0 and {}\".format(center_y, config[\"GRID_H\"]))\n",
        "print(\"center_w = {:06.3f} range between 0 and {}\".format(center_w, config[\"GRID_W\"]))\n",
        "print(\"center_h = {:06.3f} range between 0 and {}\".format(center_h, config[\"GRID_H\"]))\n"
      ],
      "execution_count": null,
      "outputs": [
        {
          "output_type": "stream",
          "text": [
            "cebter_x abd cebter_w should range between 0 and 13\n",
            "cebter_y abd cebter_h should range between 0 and 13\n",
            "center_x = 07.031 range between 0 and 13\n",
            "center_y = 05.906 range between 0 and 13\n",
            "center_w = 04.688 range between 0 and 13\n",
            "center_h = 06.562 range between 0 and 13\n"
          ],
          "name": "stdout"
        }
      ]
    },
    {
      "cell_type": "code",
      "metadata": {
        "id": "yE6POhe2X-A6",
        "outputId": "172b8f98-eade-4826-ac27-adda446f6dca",
        "colab": {
          "base_uri": "https://localhost:8080/",
          "height": 35
        }
      },
      "source": [
        "from keras.utils import Sequence # Base object for fitting to a sequence of data, such as a dataset.\n",
        "\n",
        "class SimpleBatchGenerator(Sequence): # create a Keras's batch generator by combining all the input and output encoding\n",
        "\n",
        "\n",
        "    def __init__(self, images, config, norm=None, shuffle=True): # config : dictionary containing necessary hyper parameters for traning\n",
        "\n",
        "        self.config = config\n",
        "        self.config[\"BOX\"] = int(len(self.config['ANCHORS'])/2)\n",
        "        self.config[\"CLASS\"] = len(self.config['LABELS'])\n",
        "        self.images = images\n",
        "        self.bestAnchorBoxFinder = BestAnchorBoxFinder(config['ANCHORS'])\n",
        "        self.imageReader = ImageReader(config['IMAGE_H'],config['IMAGE_W'],norm=norm)\n",
        "        self.shuffle = shuffle\n",
        "\n",
        "        if self.shuffle: \n",
        "            np.random.shuffle(self.images)\n",
        "            \n",
        "    def __len__(self):\n",
        "        return int(np.ceil(float(len(self.images))/self.config['BATCH_SIZE']))  \n",
        "    \n",
        "\n",
        "    def __getitem__(self, idx): # idx : non-negative integer value\n",
        "\n",
        "        l_bound = idx*self.config['BATCH_SIZE']\n",
        "        r_bound = (idx+1)*self.config['BATCH_SIZE']\n",
        "\n",
        "        if r_bound > len(self.images):\n",
        "            r_bound = len(self.images)\n",
        "            l_bound = r_bound - self.config['BATCH_SIZE']\n",
        "\n",
        "        instance_count = 0\n",
        "        \n",
        "\n",
        "        ## prepare empty storage space: this will be output\n",
        "        # x_batch: The numpy array of shape (BATCH_SIZE, IMAGE_H, IMAGE_W, N channels)\n",
        "        # b_batch: The numpy array of shape (BATCH_SIZE, 1, 1, 1, TRUE_BOX_BUFFER, 4)\n",
        "        # y_batch: The numpy array of shape (BATCH_SIZE, GRID_H, GRID_W, BOX, 4 + 1 + N classes)\n",
        "        # BOX = The number of anchor boxes.\n",
        "        x_batch = np.zeros((r_bound - l_bound, self.config['IMAGE_H'], self.config['IMAGE_W'], 3))  # input images\n",
        "        b_batch = np.zeros((r_bound - l_bound, 1     , 1     , 1    ,  self.config['TRUE_BOX_BUFFER'], 4))   # list of self.config['TRUE_self.config ['BOX']_BUFFER'] GT boxes\n",
        "        y_batch = np.zeros((r_bound - l_bound, self.config['GRID_H'],  self.config['GRID_W'], self.config['BOX'], 4+1+len(self.config['LABELS'])))  # desired network output\n",
        "\n",
        "        for train_instance in self.images[l_bound:r_bound]:\n",
        "            # augment input image and fix object's position and size\n",
        "            img, all_objs = self.imageReader.fit(train_instance)\n",
        "            \n",
        "            # construct output from object's x, y, w, h\n",
        "            true_box_index = 0\n",
        "            \n",
        "            for obj in all_objs:\n",
        "                if obj['xmax'] > obj['xmin'] and obj['ymax'] > obj['ymin'] and obj['name'] in self.config['LABELS']:\n",
        "                    center_x, center_y = rescale_centerxy(obj,self.config)\n",
        "                    \n",
        "                    grid_x = int(np.floor(center_x))\n",
        "                    grid_y = int(np.floor(center_y))\n",
        "\n",
        "                    if grid_x < self.config['GRID_W'] and grid_y < self.config['GRID_H']:\n",
        "                        obj_indx  = self.config['LABELS'].index(obj['name'])\n",
        "                        center_w, center_h = rescale_cebterwh(obj,self.config)\n",
        "                        box = [center_x, center_y, center_w, center_h]\n",
        "                        best_anchor,max_iou = self.bestAnchorBoxFinder.find(center_w, center_h)\n",
        "                                \n",
        "                        # assign ground truth x, y, w, h, confidence and class probs to y_batch\n",
        "                        # it could happen that the same grid cell contain 2 similar shape objects\n",
        "                        # as a result the same anchor box is selected as the best anchor box by the multiple objects\n",
        "                        # in such ase, the object is over written\n",
        "                        y_batch[instance_count, grid_y, grid_x, best_anchor, 0:4] = box # center_x, center_y, w, h\n",
        "                        y_batch[instance_count, grid_y, grid_x, best_anchor, 4  ] = 1. # ground truth confidence is 1\n",
        "                        y_batch[instance_count, grid_y, grid_x, best_anchor, 5+obj_indx] = 1 # class probability of the object\n",
        "\n",
        "\n",
        "                        b_batch[instance_count, 0, 0, 0, true_box_index] = box # assign the true box to b_batch\n",
        "                        \n",
        "                        true_box_index += 1\n",
        "                        true_box_index = true_box_index % self.config['TRUE_BOX_BUFFER']\n",
        "                            \n",
        "            x_batch[instance_count] = img\n",
        "            instance_count += 1  # increase instance counter in current batch\n",
        "\n",
        "        return [x_batch, b_batch], y_batch\n",
        "\n",
        "    def on_epoch_end(self):\n",
        "        if self.shuffle: \n",
        "            np.random.shuffle(self.images)"
      ],
      "execution_count": null,
      "outputs": [
        {
          "output_type": "stream",
          "text": [
            "Using TensorFlow backend.\n"
          ],
          "name": "stderr"
        }
      ]
    },
    {
      "cell_type": "code",
      "metadata": {
        "id": "dwLwvbWDYBdX",
        "outputId": "6cebe5ee-143f-4b7d-a336-f37047d46497",
        "colab": {
          "base_uri": "https://localhost:8080/",
          "height": 54
        }
      },
      "source": [
        "\n",
        "GRID_H,  GRID_W  = 13 , 13\n",
        "ANCHORS          = _ANCHORS01 # range between 0 and 1\n",
        "ANCHORS[::2]     = ANCHORS[::2]*GRID_W  \n",
        "ANCHORS[1::2]    = ANCHORS[1::2]*GRID_H  \n",
        "ANCHORS "
      ],
      "execution_count": null,
      "outputs": [
        {
          "output_type": "execute_result",
          "data": {
            "text/plain": [
              "array([ 1.07709888,  1.78171903,  2.71054693,  5.12469308, 10.47181473,\n",
              "       10.09646365,  5.48531347,  8.11011331])"
            ]
          },
          "metadata": {
            "tags": []
          },
          "execution_count": 17
        }
      ]
    },
    {
      "cell_type": "code",
      "metadata": {
        "id": "NEmA9YfHYD7n"
      },
      "source": [
        "IMAGE_H, IMAGE_W = 416, 416\n",
        "BATCH_SIZE       = 16\n",
        "TRUE_BOX_BUFFER  = 50\n",
        "generator_config = {\n",
        "    'IMAGE_H'         : IMAGE_H, \n",
        "    'IMAGE_W'         : IMAGE_W,\n",
        "    'GRID_H'          : GRID_H,  \n",
        "    'GRID_W'          : GRID_W,\n",
        "    'LABELS'          : LABELS,\n",
        "    'ANCHORS'         : ANCHORS,\n",
        "    'BATCH_SIZE'      : BATCH_SIZE,\n",
        "    'TRUE_BOX_BUFFER' : TRUE_BOX_BUFFER,\n",
        "}\n",
        "\n",
        "\n",
        "train_batch_generator = SimpleBatchGenerator(train_image, generator_config,\n",
        "                                             norm=normalize, shuffle=True)\n",
        "\n",
        "[x_batch,b_batch],y_batch = train_batch_generator.__getitem__(idx=3)\n"
      ],
      "execution_count": null,
      "outputs": []
    },
    {
      "cell_type": "code",
      "metadata": {
        "id": "air4PGtBYHPQ",
        "outputId": "24108969-6e70-4882-bc77-0df3cdd04d8e",
        "colab": {
          "base_uri": "https://localhost:8080/",
          "height": 72
        }
      },
      "source": [
        "# input and output shape\n",
        "\n",
        "print(\"x_batch: (BATCH_SIZE, IMAGE_H, IMAGE_W, N channels)           = {}\".format(x_batch.shape))\n",
        "print(\"y_batch: (BATCH_SIZE, GRID_H, GRID_W, BOX, 4 + 1 + N classes) = {}\".format(y_batch.shape))\n",
        "print(\"b_batch: (BATCH_SIZE, 1, 1, 1, TRUE_BOX_BUFFER, 4)            = {}\".format(b_batch.shape))"
      ],
      "execution_count": null,
      "outputs": [
        {
          "output_type": "stream",
          "text": [
            "x_batch: (BATCH_SIZE, IMAGE_H, IMAGE_W, N channels)           = (16, 416, 416, 3)\n",
            "y_batch: (BATCH_SIZE, GRID_H, GRID_W, BOX, 4 + 1 + N classes) = (16, 13, 13, 4, 25)\n",
            "b_batch: (BATCH_SIZE, 1, 1, 1, TRUE_BOX_BUFFER, 4)            = (16, 1, 1, 1, 50, 4)\n"
          ],
          "name": "stdout"
        }
      ]
    },
    {
      "cell_type": "code",
      "metadata": {
        "id": "fWF0mu9QYK8H",
        "outputId": "68e19531-d083-47b9-9525-132a916d858a",
        "colab": {
          "base_uri": "https://localhost:8080/",
          "height": 54
        }
      },
      "source": [
        "# frame contains five objects: sofa,bottle,person,chair and person\n",
        "iframe= 1\n",
        "def check_object_in_grid_anchor_pair(irow):\n",
        "    for igrid_h in range(generator_config[\"GRID_H\"]):\n",
        "        for igrid_w in range(generator_config[\"GRID_W\"]):\n",
        "            for ianchor in range(generator_config[\"BOX\"]):\n",
        "                vec = y_batch[irow,igrid_h,igrid_w,ianchor,:]\n",
        "                C = vec[4] ## ground truth confidence\n",
        "                if C == 1:\n",
        "                    class_nm = np.array(LABELS)[np.where(vec[5:])]\n",
        "                    assert len(class_nm) == 1\n",
        "                    print(\"igrid_h={:02.0f},igrid_w={:02.0f},iAnchor={:02.0f}, {}\".format(\n",
        "                        igrid_h,igrid_w,ianchor,class_nm[0]))\n",
        "check_object_in_grid_anchor_pair(iframe)"
      ],
      "execution_count": null,
      "outputs": [
        {
          "output_type": "stream",
          "text": [
            "igrid_h=06,igrid_w=03,iAnchor=00, dog\n",
            "igrid_h=08,igrid_w=10,iAnchor=03, motorbike\n"
          ],
          "name": "stdout"
        }
      ]
    },
    {
      "cell_type": "code",
      "metadata": {
        "id": "ZFzEyz2bYTmq",
        "outputId": "779a5d5a-e59b-49c4-e82d-4a1e951b3503",
        "colab": {
          "base_uri": "https://localhost:8080/",
          "height": 320
        }
      },
      "source": [
        "\n",
        "def plot_image_with_grid_cell_partition(irow):\n",
        "\n",
        "    img = x_batch[irow]\n",
        "    plt.figure(figsize=(5,5))\n",
        "    plt.imshow(img)\n",
        "    for wh in [\"W\",\"H\"]:\n",
        "        GRID_  = generator_config[\"GRID_\"  + wh] ## 13\n",
        "        IMAGE_  = generator_config[\"IMAGE_\" + wh] ## 416\n",
        "        if wh == \"W\":\n",
        "            pltax = plt.axvline\n",
        "            plttick = plt.xticks\n",
        "        else:\n",
        "            pltax = plt.axhline\n",
        "            plttick = plt.yticks\n",
        "            \n",
        "        for count in range(GRID_):\n",
        "            l = IMAGE_*count/GRID_\n",
        "            pltax(l,color=\"yellow\",alpha=0.3) \n",
        "        plttick([(i + 0.5)*IMAGE_/GRID_ for i in range(GRID_)],\n",
        "                [\"iGRID{}={}\".format(wh,i) for i in range(GRID_)])\n",
        "\n",
        "def plot_grid(irow):\n",
        "    import seaborn as sns\n",
        "    color_palette = list(sns.xkcd_rgb.values())\n",
        "    iobj = 0\n",
        "    for igrid_h in range(generator_config[\"GRID_H\"]):\n",
        "        for igrid_w in range(generator_config[\"GRID_W\"]):\n",
        "            for ianchor in range(generator_config[\"BOX\"]):\n",
        "                vec = y_batch[irow,igrid_h,igrid_w,ianchor,:]\n",
        "                C = vec[4] # ground truth confidence\n",
        "                if C == 1:\n",
        "                    class_nm = np.array(LABELS)[np.where(vec[5:])]\n",
        "                    x, y, w, h = vec[:4]\n",
        "                    multx = generator_config[\"IMAGE_W\"]/generator_config[\"GRID_W\"]\n",
        "                    multy = generator_config[\"IMAGE_H\"]/generator_config[\"GRID_H\"]\n",
        "                    c = color_palette[iobj]\n",
        "                    iobj += 1\n",
        "                    xmin = x - 0.5*w\n",
        "                    ymin = y - 0.5*h\n",
        "                    xmax = x + 0.5*w\n",
        "                    ymax = y + 0.5*h\n",
        "                    # center\n",
        "                    plt.text(x*multx,y*multy,\n",
        "                             \"X\",color=c,fontsize=23)\n",
        "                    plt.plot(np.array([xmin,xmin])*multx, np.array([ymin,ymax])*multy,color=c,linewidth=10)\n",
        "                    plt.plot(np.array([xmin,xmax])*multx, np.array([ymin,ymin])*multy,color=c,linewidth=10)\n",
        "                    plt.plot(np.array([xmax,xmax])*multx, np.array([ymax,ymin])*multy,color=c,linewidth=10)  \n",
        "                    plt.plot(np.array([xmin,xmax])*multx, np.array([ymax,ymax])*multy,color=c,linewidth=10)\n",
        "\n",
        "plot_image_with_grid_cell_partition(iframe)\n",
        "plot_grid(iframe)\n",
        "plt.show()"
      ],
      "execution_count": null,
      "outputs": [
        {
          "output_type": "display_data",
          "data": {
            "image/png": "[encoded data removed]",
            "text/plain": [
              "<Figure size 360x360 with 1 Axes>"
            ]
          },
          "metadata": {
            "tags": []
          }
        }
      ]
    },
    {
      "cell_type": "code",
      "metadata": {
        "id": "Pm2of46hYXri"
      },
      "source": [
        "'''\n",
        "# e.g\n",
        "for irow in range(5,10):\n",
        "    print(\"-\"*30)\n",
        "    check_object_in_grid_anchor_pair(irow)\n",
        "    plot_image_with_grid_cell_partition(irow)\n",
        "    plot_grid(irow)\n",
        "    plt.show()\n",
        "    \n",
        "'''    "
      ],
      "execution_count": null,
      "outputs": []
    },
    {
      "cell_type": "code",
      "metadata": {
        "id": "k1dvgOuaPHG_"
      },
      "source": [
        "'''''''''''''''''''''''''''''''''''''''''''''''''''''''''''''''' ** Model ** '''''''''''''''''''''''''''''''''''''''''''''''''''''''''''''''''''''''"
      ],
      "execution_count": null,
      "outputs": []
    },
    {
      "cell_type": "code",
      "metadata": {
        "id": "UHYgh0DwYrNl"
      },
      "source": [
        "# I choose 4 anchor boxes with 13 by 13 grids, every frame gets 4 x 13 x 13 = 676 boud box predict\n",
        "\n",
        "ANCHORS = np.array([1.07709888,  1.78171903,  # anchor box 1, width , height\n",
        "                    2.71054693,  5.12469308,  # anchor box 2, width,  height\n",
        "                   10.47181473, 10.09646365,  # anchor box 3, width,  height\n",
        "                    5.48531347,  8.11011331]) # anchor box 4, width,  height"
      ],
      "execution_count": null,
      "outputs": []
    },
    {
      "cell_type": "code",
      "metadata": {
        "id": "C5UmL7EsYuQk",
        "outputId": "a61a999f-1c53-46d9-a57c-acb1e1ec0494",
        "colab": {
          "base_uri": "https://localhost:8080/",
          "height": 55
        }
      },
      "source": [
        "'''\n",
        "LABELS = ['aeroplane', 'bicycle', 'bird', 'boat', 'bottle', 'bus', 'car', 'cat', 'chair', 'cow',  'diningtable',\n",
        "          'dog', 'horse', 'motorbike', 'person', 'pottedplant', 'sheep', 'sofa', 'train', 'tvmonitor']\n",
        "'''          "
      ],
      "execution_count": null,
      "outputs": [
        {
          "output_type": "execute_result",
          "data": {
            "text/plain": [
              "\"\\nLABELS = ['aeroplane', 'bicycle', 'bird', 'boat', 'bottle', 'bus', 'car', 'cat', 'chair', 'cow',  'diningtable',\\n          'dog', 'horse', 'motorbike', 'person', 'pottedplant', 'sheep', 'sofa', 'train', 'tvmonitor']\\n\""
            ]
          },
          "metadata": {
            "tags": []
          },
          "execution_count": 23
        }
      ]
    },
    {
      "cell_type": "code",
      "metadata": {
        "id": "2RePtjn9Yy73",
        "outputId": "5cea867b-6527-4d52-e7fd-4e4a6162381f",
        "colab": {
          "base_uri": "https://localhost:8080/",
          "height": 1000
        }
      },
      "source": [
        "# YOLOv2 Model = It repeatedly  Convolusion + Batch Normalization + Relu layers until the image shape reduces to the grid cell size\n",
        "\n",
        "from keras.models import Sequential, Model\n",
        "from keras.layers import Reshape, Activation, Conv2D, Input, MaxPooling2D, BatchNormalization, Flatten, Dense, Lambda\n",
        "from keras.layers.advanced_activations import LeakyReLU\n",
        "from keras.callbacks import EarlyStopping, ModelCheckpoint, TensorBoard\n",
        "from keras.optimizers import SGD, Adam, RMSprop\n",
        "from keras.layers.merge import concatenate\n",
        "import keras.backend as K\n",
        "import tensorflow as tf\n",
        "\n",
        "\n",
        "\n",
        "def space_to_depth_x2(x): # the function to implement the orgnization layer= 90% Keras/10% Tensorflow implementation of YOLO_v2 (github.com/allanzelener/YAD2K)\n",
        "    return tf.space_to_depth(x, block_size=2)\n",
        "\n",
        "\n",
        "def ConvBatchLReLu(x,filters,kernel_size,index,trainable):\n",
        "    # when strides = None, strides = pool_size.\n",
        "    x = Conv2D(filters, kernel_size, strides=(1,1), padding='same', name='conv_{}'.format(index), use_bias=False, trainable=trainable)(x)\n",
        "    x = BatchNormalization(name='norm_{}'.format(index), trainable=trainable)(x)\n",
        "    x = LeakyReLU(alpha=0.1)(x)\n",
        "    return(x)\n",
        "\n",
        "\n",
        "def ConvBatchLReLu_loop(x,index,convstack,trainable):\n",
        "    for para in convstack:\n",
        "        x = ConvBatchLReLu(x,para[\"filters\"],para[\"kernel_size\"],index,trainable)\n",
        "        index += 1\n",
        "    return(x)\n",
        "\n",
        "\n",
        "def define_YOLOv2(IMAGE_H,IMAGE_W,GRID_H,GRID_W,TRUE_BOX_BUFFER,BOX,CLASS, trainable=False):\n",
        "    convstack3to5  = [{\"filters\":128, \"kernel_size\":(3,3)},  # 3\n",
        "                      {\"filters\":64,  \"kernel_size\":(1,1)},  # 4\n",
        "                      {\"filters\":128, \"kernel_size\":(3,3)}]  # 5\n",
        "                    \n",
        "    convstack6to8  = [{\"filters\":256, \"kernel_size\":(3,3)},  # 6\n",
        "                      {\"filters\":128, \"kernel_size\":(1,1)},  # 7\n",
        "                      {\"filters\":256, \"kernel_size\":(3,3)}]  # 8\n",
        "    \n",
        "    convstack9to13 = [{\"filters\":512, \"kernel_size\":(3,3)},  # 9\n",
        "                      {\"filters\":256, \"kernel_size\":(1,1)},  # 10\n",
        "                      {\"filters\":512, \"kernel_size\":(3,3)},  # 11\n",
        "                      {\"filters\":256, \"kernel_size\":(1,1)},  # 12\n",
        "                      {\"filters\":512, \"kernel_size\":(3,3)}]  # 13\n",
        "        \n",
        "    convstack14to20 = [{\"filters\":1024, \"kernel_size\":(3,3)}, # 14 \n",
        "                       {\"filters\":512,  \"kernel_size\":(1,1)}, # 15\n",
        "                       {\"filters\":1024, \"kernel_size\":(3,3)}, # 16\n",
        "                       {\"filters\":512,  \"kernel_size\":(1,1)}, # 17\n",
        "                       {\"filters\":1024, \"kernel_size\":(3,3)}, # 18\n",
        "                       {\"filters\":1024, \"kernel_size\":(3,3)}, # 19\n",
        "                       {\"filters\":1024, \"kernel_size\":(3,3)}] # 20\n",
        "    \n",
        "\n",
        "    input_image = Input(shape=(IMAGE_H, IMAGE_W, 3),name=\"input_image\") # (416, 416, 3)\n",
        "    true_boxes  = Input(shape=(1, 1, 1, TRUE_BOX_BUFFER , 4),name=\"input_hack\")    \n",
        "    # Layer 1\n",
        "    x = ConvBatchLReLu(input_image,filters=32,kernel_size=(3,3),index=1,trainable=trainable)\n",
        "    x = MaxPooling2D(pool_size=(2, 2),name=\"maxpool1_416to208\")(x)\n",
        "\n",
        "    # Layer 2\n",
        "    x = ConvBatchLReLu(x,filters=64,kernel_size=(3,3),index=2,trainable=trainable)\n",
        "    x = MaxPooling2D(pool_size=(2, 2),name=\"maxpool1_208to104\")(x)\n",
        "    \n",
        "    # Layer (3 - 5)\n",
        "    x = ConvBatchLReLu_loop(x,3,convstack3to5,trainable)\n",
        "    x = MaxPooling2D(pool_size=(2, 2),name=\"maxpool1_104to52\")(x)\n",
        "    \n",
        "    # Layer (6 - 8)\n",
        "    x = ConvBatchLReLu_loop(x,6,convstack6to8,trainable)\n",
        "    x = MaxPooling2D(pool_size=(2, 2),name=\"maxpool1_52to26\")(x) \n",
        "\n",
        "    # Layer (9 - 13)\n",
        "    x = ConvBatchLReLu_loop(x,9,convstack9to13,trainable)\n",
        "        \n",
        "    skip_connection = x\n",
        "    x = MaxPooling2D(pool_size=(2, 2),name=\"maxpool1_26to13\")(x)\n",
        "    \n",
        "    # Layer (14 - 20)\n",
        "    x = ConvBatchLReLu_loop(x,14,convstack14to20,trainable)\n",
        "\n",
        "    # Layer 21\n",
        "    skip_connection = ConvBatchLReLu(skip_connection,filters=64, kernel_size=(1,1),index=21,trainable=trainable)\n",
        "    skip_connection = Lambda(space_to_depth_x2)(skip_connection)\n",
        "\n",
        "    x = concatenate([skip_connection, x])\n",
        "\n",
        "    # Layer 22\n",
        "    x = ConvBatchLReLu(x,filters=1024,kernel_size=(3,3),index=22,trainable=trainable)\n",
        "\n",
        "    # Layer 23\n",
        "    x = Conv2D(BOX * (4 + 1 + CLASS), (1,1), strides=(1,1), padding='same', name='conv_23')(x)\n",
        "    output = Reshape((GRID_H, GRID_W, BOX, 4 + 1 + CLASS),name=\"final_output\")(x)\n",
        "\n",
        "\n",
        "    output = Lambda(lambda args: args[0],name=\"hack_layer\")([output, true_boxes])\n",
        "\n",
        "    model = Model([input_image, true_boxes], output)\n",
        "    return(model, true_boxes)\n",
        "\n",
        "\n",
        "\n",
        "IMAGE_H, IMAGE_W  = 416, 416\n",
        "GRID_H,  GRID_W   = 13 , 13\n",
        "TRUE_BOX_BUFFER   = 50\n",
        "BOX               = int(len(ANCHORS)/2)\n",
        "CLASS             = len(LABELS)\n",
        "## true_boxes is the tensor that takes \"b_batch\"\n",
        "model, true_boxes = define_YOLOv2(IMAGE_H,IMAGE_W,GRID_H,GRID_W,TRUE_BOX_BUFFER,BOX,CLASS, trainable=False)\n",
        "\n",
        "model.summary()"
      ],
      "execution_count": null,
      "outputs": [
        {
          "output_type": "stream",
          "text": [
            "WARNING:tensorflow:From /usr/local/lib/python3.6/dist-packages/keras/backend/tensorflow_backend.py:541: The name tf.placeholder is deprecated. Please use tf.compat.v1.placeholder instead.\n",
            "\n",
            "WARNING:tensorflow:From /usr/local/lib/python3.6/dist-packages/keras/backend/tensorflow_backend.py:4432: The name tf.random_uniform is deprecated. Please use tf.random.uniform instead.\n",
            "\n",
            "WARNING:tensorflow:From /usr/local/lib/python3.6/dist-packages/keras/backend/tensorflow_backend.py:66: The name tf.get_default_graph is deprecated. Please use tf.compat.v1.get_default_graph instead.\n",
            "\n",
            "WARNING:tensorflow:From /usr/local/lib/python3.6/dist-packages/keras/backend/tensorflow_backend.py:190: The name tf.get_default_session is deprecated. Please use tf.compat.v1.get_default_session instead.\n",
            "\n",
            "WARNING:tensorflow:From /usr/local/lib/python3.6/dist-packages/keras/backend/tensorflow_backend.py:197: The name tf.ConfigProto is deprecated. Please use tf.compat.v1.ConfigProto instead.\n",
            "\n",
            "WARNING:tensorflow:From /usr/local/lib/python3.6/dist-packages/keras/backend/tensorflow_backend.py:203: The name tf.Session is deprecated. Please use tf.compat.v1.Session instead.\n",
            "\n",
            "WARNING:tensorflow:From /usr/local/lib/python3.6/dist-packages/keras/backend/tensorflow_backend.py:207: The name tf.global_variables is deprecated. Please use tf.compat.v1.global_variables instead.\n",
            "\n",
            "WARNING:tensorflow:From /usr/local/lib/python3.6/dist-packages/keras/backend/tensorflow_backend.py:216: The name tf.is_variable_initialized is deprecated. Please use tf.compat.v1.is_variable_initialized instead.\n",
            "\n",
            "WARNING:tensorflow:From /usr/local/lib/python3.6/dist-packages/keras/backend/tensorflow_backend.py:223: The name tf.variables_initializer is deprecated. Please use tf.compat.v1.variables_initializer instead.\n",
            "\n",
            "WARNING:tensorflow:From /usr/local/lib/python3.6/dist-packages/keras/backend/tensorflow_backend.py:2041: The name tf.nn.fused_batch_norm is deprecated. Please use tf.compat.v1.nn.fused_batch_norm instead.\n",
            "\n",
            "WARNING:tensorflow:From /usr/local/lib/python3.6/dist-packages/keras/backend/tensorflow_backend.py:148: The name tf.placeholder_with_default is deprecated. Please use tf.compat.v1.placeholder_with_default instead.\n",
            "\n",
            "WARNING:tensorflow:From /usr/local/lib/python3.6/dist-packages/keras/backend/tensorflow_backend.py:4267: The name tf.nn.max_pool is deprecated. Please use tf.nn.max_pool2d instead.\n",
            "\n",
            "Model: \"model_1\"\n",
            "__________________________________________________________________________________________________\n",
            "Layer (type)                    Output Shape         Param #     Connected to                     \n",
            "==================================================================================================\n",
            "input_image (InputLayer)        (None, 416, 416, 3)  0                                            \n",
            "__________________________________________________________________________________________________\n",
            "conv_1 (Conv2D)                 (None, 416, 416, 32) 864         input_image[0][0]                \n",
            "__________________________________________________________________________________________________\n",
            "norm_1 (BatchNormalization)     (None, 416, 416, 32) 128         conv_1[0][0]                     \n",
            "__________________________________________________________________________________________________\n",
            "leaky_re_lu_1 (LeakyReLU)       (None, 416, 416, 32) 0           norm_1[0][0]                     \n",
            "__________________________________________________________________________________________________\n",
            "maxpool1_416to208 (MaxPooling2D (None, 208, 208, 32) 0           leaky_re_lu_1[0][0]              \n",
            "__________________________________________________________________________________________________\n",
            "conv_2 (Conv2D)                 (None, 208, 208, 64) 18432       maxpool1_416to208[0][0]          \n",
            "__________________________________________________________________________________________________\n",
            "norm_2 (BatchNormalization)     (None, 208, 208, 64) 256         conv_2[0][0]                     \n",
            "__________________________________________________________________________________________________\n",
            "leaky_re_lu_2 (LeakyReLU)       (None, 208, 208, 64) 0           norm_2[0][0]                     \n",
            "__________________________________________________________________________________________________\n",
            "maxpool1_208to104 (MaxPooling2D (None, 104, 104, 64) 0           leaky_re_lu_2[0][0]              \n",
            "__________________________________________________________________________________________________\n",
            "conv_3 (Conv2D)                 (None, 104, 104, 128 73728       maxpool1_208to104[0][0]          \n",
            "__________________________________________________________________________________________________\n",
            "norm_3 (BatchNormalization)     (None, 104, 104, 128 512         conv_3[0][0]                     \n",
            "__________________________________________________________________________________________________\n",
            "leaky_re_lu_3 (LeakyReLU)       (None, 104, 104, 128 0           norm_3[0][0]                     \n",
            "__________________________________________________________________________________________________\n",
            "conv_4 (Conv2D)                 (None, 104, 104, 64) 8192        leaky_re_lu_3[0][0]              \n",
            "__________________________________________________________________________________________________\n",
            "norm_4 (BatchNormalization)     (None, 104, 104, 64) 256         conv_4[0][0]                     \n",
            "__________________________________________________________________________________________________\n",
            "leaky_re_lu_4 (LeakyReLU)       (None, 104, 104, 64) 0           norm_4[0][0]                     \n",
            "__________________________________________________________________________________________________\n",
            "conv_5 (Conv2D)                 (None, 104, 104, 128 73728       leaky_re_lu_4[0][0]              \n",
            "__________________________________________________________________________________________________\n",
            "norm_5 (BatchNormalization)     (None, 104, 104, 128 512         conv_5[0][0]                     \n",
            "__________________________________________________________________________________________________\n",
            "leaky_re_lu_5 (LeakyReLU)       (None, 104, 104, 128 0           norm_5[0][0]                     \n",
            "__________________________________________________________________________________________________\n",
            "maxpool1_104to52 (MaxPooling2D) (None, 52, 52, 128)  0           leaky_re_lu_5[0][0]              \n",
            "__________________________________________________________________________________________________\n",
            "conv_6 (Conv2D)                 (None, 52, 52, 256)  294912      maxpool1_104to52[0][0]           \n",
            "__________________________________________________________________________________________________\n",
            "norm_6 (BatchNormalization)     (None, 52, 52, 256)  1024        conv_6[0][0]                     \n",
            "__________________________________________________________________________________________________\n",
            "leaky_re_lu_6 (LeakyReLU)       (None, 52, 52, 256)  0           norm_6[0][0]                     \n",
            "__________________________________________________________________________________________________\n",
            "conv_7 (Conv2D)                 (None, 52, 52, 128)  32768       leaky_re_lu_6[0][0]              \n",
            "__________________________________________________________________________________________________\n",
            "norm_7 (BatchNormalization)     (None, 52, 52, 128)  512         conv_7[0][0]                     \n",
            "__________________________________________________________________________________________________\n",
            "leaky_re_lu_7 (LeakyReLU)       (None, 52, 52, 128)  0           norm_7[0][0]                     \n",
            "__________________________________________________________________________________________________\n",
            "conv_8 (Conv2D)                 (None, 52, 52, 256)  294912      leaky_re_lu_7[0][0]              \n",
            "__________________________________________________________________________________________________\n",
            "norm_8 (BatchNormalization)     (None, 52, 52, 256)  1024        conv_8[0][0]                     \n",
            "__________________________________________________________________________________________________\n",
            "leaky_re_lu_8 (LeakyReLU)       (None, 52, 52, 256)  0           norm_8[0][0]                     \n",
            "__________________________________________________________________________________________________\n",
            "maxpool1_52to26 (MaxPooling2D)  (None, 26, 26, 256)  0           leaky_re_lu_8[0][0]              \n",
            "__________________________________________________________________________________________________\n",
            "conv_9 (Conv2D)                 (None, 26, 26, 512)  1179648     maxpool1_52to26[0][0]            \n",
            "__________________________________________________________________________________________________\n",
            "norm_9 (BatchNormalization)     (None, 26, 26, 512)  2048        conv_9[0][0]                     \n",
            "__________________________________________________________________________________________________\n",
            "leaky_re_lu_9 (LeakyReLU)       (None, 26, 26, 512)  0           norm_9[0][0]                     \n",
            "__________________________________________________________________________________________________\n",
            "conv_10 (Conv2D)                (None, 26, 26, 256)  131072      leaky_re_lu_9[0][0]              \n",
            "__________________________________________________________________________________________________\n",
            "norm_10 (BatchNormalization)    (None, 26, 26, 256)  1024        conv_10[0][0]                    \n",
            "__________________________________________________________________________________________________\n",
            "leaky_re_lu_10 (LeakyReLU)      (None, 26, 26, 256)  0           norm_10[0][0]                    \n",
            "__________________________________________________________________________________________________\n",
            "conv_11 (Conv2D)                (None, 26, 26, 512)  1179648     leaky_re_lu_10[0][0]             \n",
            "__________________________________________________________________________________________________\n",
            "norm_11 (BatchNormalization)    (None, 26, 26, 512)  2048        conv_11[0][0]                    \n",
            "__________________________________________________________________________________________________\n",
            "leaky_re_lu_11 (LeakyReLU)      (None, 26, 26, 512)  0           norm_11[0][0]                    \n",
            "__________________________________________________________________________________________________\n",
            "conv_12 (Conv2D)                (None, 26, 26, 256)  131072      leaky_re_lu_11[0][0]             \n",
            "__________________________________________________________________________________________________\n",
            "norm_12 (BatchNormalization)    (None, 26, 26, 256)  1024        conv_12[0][0]                    \n",
            "__________________________________________________________________________________________________\n",
            "leaky_re_lu_12 (LeakyReLU)      (None, 26, 26, 256)  0           norm_12[0][0]                    \n",
            "__________________________________________________________________________________________________\n",
            "conv_13 (Conv2D)                (None, 26, 26, 512)  1179648     leaky_re_lu_12[0][0]             \n",
            "__________________________________________________________________________________________________\n",
            "norm_13 (BatchNormalization)    (None, 26, 26, 512)  2048        conv_13[0][0]                    \n",
            "__________________________________________________________________________________________________\n",
            "leaky_re_lu_13 (LeakyReLU)      (None, 26, 26, 512)  0           norm_13[0][0]                    \n",
            "__________________________________________________________________________________________________\n",
            "maxpool1_26to13 (MaxPooling2D)  (None, 13, 13, 512)  0           leaky_re_lu_13[0][0]             \n",
            "__________________________________________________________________________________________________\n",
            "conv_14 (Conv2D)                (None, 13, 13, 1024) 4718592     maxpool1_26to13[0][0]            \n",
            "__________________________________________________________________________________________________\n",
            "norm_14 (BatchNormalization)    (None, 13, 13, 1024) 4096        conv_14[0][0]                    \n",
            "__________________________________________________________________________________________________\n",
            "leaky_re_lu_14 (LeakyReLU)      (None, 13, 13, 1024) 0           norm_14[0][0]                    \n",
            "__________________________________________________________________________________________________\n",
            "conv_15 (Conv2D)                (None, 13, 13, 512)  524288      leaky_re_lu_14[0][0]             \n",
            "__________________________________________________________________________________________________\n",
            "norm_15 (BatchNormalization)    (None, 13, 13, 512)  2048        conv_15[0][0]                    \n",
            "__________________________________________________________________________________________________\n",
            "leaky_re_lu_15 (LeakyReLU)      (None, 13, 13, 512)  0           norm_15[0][0]                    \n",
            "__________________________________________________________________________________________________\n",
            "conv_16 (Conv2D)                (None, 13, 13, 1024) 4718592     leaky_re_lu_15[0][0]             \n",
            "__________________________________________________________________________________________________\n",
            "norm_16 (BatchNormalization)    (None, 13, 13, 1024) 4096        conv_16[0][0]                    \n",
            "__________________________________________________________________________________________________\n",
            "leaky_re_lu_16 (LeakyReLU)      (None, 13, 13, 1024) 0           norm_16[0][0]                    \n",
            "__________________________________________________________________________________________________\n",
            "conv_17 (Conv2D)                (None, 13, 13, 512)  524288      leaky_re_lu_16[0][0]             \n",
            "__________________________________________________________________________________________________\n",
            "norm_17 (BatchNormalization)    (None, 13, 13, 512)  2048        conv_17[0][0]                    \n",
            "__________________________________________________________________________________________________\n",
            "leaky_re_lu_17 (LeakyReLU)      (None, 13, 13, 512)  0           norm_17[0][0]                    \n",
            "__________________________________________________________________________________________________\n",
            "conv_18 (Conv2D)                (None, 13, 13, 1024) 4718592     leaky_re_lu_17[0][0]             \n",
            "__________________________________________________________________________________________________\n",
            "norm_18 (BatchNormalization)    (None, 13, 13, 1024) 4096        conv_18[0][0]                    \n",
            "__________________________________________________________________________________________________\n",
            "leaky_re_lu_18 (LeakyReLU)      (None, 13, 13, 1024) 0           norm_18[0][0]                    \n",
            "__________________________________________________________________________________________________\n",
            "conv_19 (Conv2D)                (None, 13, 13, 1024) 9437184     leaky_re_lu_18[0][0]             \n",
            "__________________________________________________________________________________________________\n",
            "norm_19 (BatchNormalization)    (None, 13, 13, 1024) 4096        conv_19[0][0]                    \n",
            "__________________________________________________________________________________________________\n",
            "conv_21 (Conv2D)                (None, 26, 26, 64)   32768       leaky_re_lu_13[0][0]             \n",
            "__________________________________________________________________________________________________\n",
            "leaky_re_lu_19 (LeakyReLU)      (None, 13, 13, 1024) 0           norm_19[0][0]                    \n",
            "__________________________________________________________________________________________________\n",
            "norm_21 (BatchNormalization)    (None, 26, 26, 64)   256         conv_21[0][0]                    \n",
            "__________________________________________________________________________________________________\n",
            "conv_20 (Conv2D)                (None, 13, 13, 1024) 9437184     leaky_re_lu_19[0][0]             \n",
            "__________________________________________________________________________________________________\n",
            "leaky_re_lu_21 (LeakyReLU)      (None, 26, 26, 64)   0           norm_21[0][0]                    \n",
            "__________________________________________________________________________________________________\n",
            "norm_20 (BatchNormalization)    (None, 13, 13, 1024) 4096        conv_20[0][0]                    \n",
            "__________________________________________________________________________________________________\n",
            "lambda_1 (Lambda)               (None, 13, 13, 256)  0           leaky_re_lu_21[0][0]             \n",
            "__________________________________________________________________________________________________\n",
            "leaky_re_lu_20 (LeakyReLU)      (None, 13, 13, 1024) 0           norm_20[0][0]                    \n",
            "__________________________________________________________________________________________________\n",
            "concatenate_1 (Concatenate)     (None, 13, 13, 1280) 0           lambda_1[0][0]                   \n",
            "                                                                 leaky_re_lu_20[0][0]             \n",
            "__________________________________________________________________________________________________\n",
            "conv_22 (Conv2D)                (None, 13, 13, 1024) 11796480    concatenate_1[0][0]              \n",
            "__________________________________________________________________________________________________\n",
            "norm_22 (BatchNormalization)    (None, 13, 13, 1024) 4096        conv_22[0][0]                    \n",
            "__________________________________________________________________________________________________\n",
            "leaky_re_lu_22 (LeakyReLU)      (None, 13, 13, 1024) 0           norm_22[0][0]                    \n",
            "__________________________________________________________________________________________________\n",
            "conv_23 (Conv2D)                (None, 13, 13, 100)  102500      leaky_re_lu_22[0][0]             \n",
            "__________________________________________________________________________________________________\n",
            "final_output (Reshape)          (None, 13, 13, 4, 25 0           conv_23[0][0]                    \n",
            "__________________________________________________________________________________________________\n",
            "input_hack (InputLayer)         (None, 1, 1, 1, 50,  0                                            \n",
            "__________________________________________________________________________________________________\n",
            "hack_layer (Lambda)             (None, 13, 13, 4, 25 0           final_output[0][0]               \n",
            "                                                                 input_hack[0][0]                 \n",
            "==================================================================================================\n",
            "Total params: 50,650,436\n",
            "Trainable params: 102,500\n",
            "Non-trainable params: 50,547,936\n",
            "__________________________________________________________________________________________________\n"
          ],
          "name": "stdout"
        }
      ]
    },
    {
      "cell_type": "code",
      "metadata": {
        "id": "PPeEF2SuZJrw",
        "outputId": "33992542-06b8-4745-cf82-368be728b06f",
        "colab": {
          "base_uri": "https://localhost:8080/",
          "height": 35
        }
      },
      "source": [
        "cd /content/drive/My Drive/YOLO-objectdetection-Mina"
      ],
      "execution_count": null,
      "outputs": [
        {
          "output_type": "stream",
          "text": [
            "/content/drive/My Drive/YOLO-objectdetection-Mina\n"
          ],
          "name": "stdout"
        }
      ]
    },
    {
      "cell_type": "code",
      "metadata": {
        "id": "_DoUK_rEY4_x",
        "outputId": "5d0c10e0-ecc1-4042-f2eb-18612367c945",
        "colab": {
          "base_uri": "https://localhost:8080/",
          "height": 218
        }
      },
      "source": [
        "# Download pretrained weigth yolo2 from website\n",
        "!wget https://pjreddie.com/media/files/yolov2.weights"
      ],
      "execution_count": null,
      "outputs": [
        {
          "output_type": "stream",
          "text": [
            "--2020-03-30 01:25:43--  https://pjreddie.com/media/files/yolov2.weights\n",
            "Resolving pjreddie.com (pjreddie.com)... 128.208.4.108\n",
            "Connecting to pjreddie.com (pjreddie.com)|128.208.4.108|:443... connected.\n",
            "HTTP request sent, awaiting response... 200 OK\n",
            "Length: 203934260 (194M) [application/octet-stream]\n",
            "Saving to: ‘yolov2.weights’\n",
            "\n",
            "yolov2.weights      100%[===================>] 194.49M   539KB/s    in 7m 39s  \n",
            "\n",
            "2020-03-30 01:33:24 (434 KB/s) - ‘yolov2.weights’ saved [203934260/203934260]\n",
            "\n"
          ],
          "name": "stdout"
        }
      ]
    },
    {
      "cell_type": "code",
      "metadata": {
        "id": "XbBw94ySdltl"
      },
      "source": [
        "# the wieght save in path_to_weight\n",
        "path_to_weight = \"./yolov2.weights\""
      ],
      "execution_count": null,
      "outputs": []
    },
    {
      "cell_type": "code",
      "metadata": {
        "id": "YCN7a4hKZVhm",
        "outputId": "fcb5fd65-e45a-4dd4-f139-2af54f70eb2a",
        "colab": {
          "base_uri": "https://localhost:8080/",
          "height": 35
        }
      },
      "source": [
        "\n",
        "class WeightReader:\n",
        "    \n",
        "    def __init__(self, weight_file):\n",
        "        self.offset = 4\n",
        "        self.all_weights = np.fromfile(weight_file, dtype='float32')\n",
        "        \n",
        "    def read_bytes(self, size):\n",
        "        self.offset = self.offset + size\n",
        "        return self.all_weights[self.offset-size:self.offset]\n",
        "    \n",
        "    def reset(self):\n",
        "        self.offset = 4\n",
        "                \n",
        "weight_reader = WeightReader(path_to_weight)\n",
        "print(\"all_weights.shape = {}\".format(weight_reader.all_weights.shape))\n",
        "\n",
        "# all_weights.shape = (50983565,)"
      ],
      "execution_count": null,
      "outputs": [
        {
          "output_type": "stream",
          "text": [
            "all_weights.shape = (50983565,)\n"
          ],
          "name": "stdout"
        }
      ]
    },
    {
      "cell_type": "code",
      "metadata": {
        "id": "ylO409UvZZLo"
      },
      "source": [
        "# assign pre-trained weights to conv & norm layers 1,2,...,22\n",
        "\n",
        "def set_pretrained_weight(model,nb_conv, path_to_weight):\n",
        "    weight_reader = WeightReader(path_to_weight)\n",
        "    weight_reader.reset()\n",
        "    for i in range(1, nb_conv+1):\n",
        "        conv_layer = model.get_layer('conv_' + str(i)) # conv layer\n",
        "\n",
        "        if i < nb_conv:\n",
        "            norm_layer = model.get_layer('norm_' + str(i)) # batch norm layer\n",
        "\n",
        "            size = np.prod(norm_layer.get_weights()[0].shape)\n",
        "\n",
        "            beta  = weight_reader.read_bytes(size)\n",
        "            gamma = weight_reader.read_bytes(size)\n",
        "            mean  = weight_reader.read_bytes(size)\n",
        "            var   = weight_reader.read_bytes(size)\n",
        "\n",
        "            weights = norm_layer.set_weights([gamma, beta, mean, var])       \n",
        "\n",
        "        if len(conv_layer.get_weights()) > 1: ## with bias\n",
        "            bias   = weight_reader.read_bytes(np.prod(conv_layer.get_weights()[1].shape))\n",
        "            kernel = weight_reader.read_bytes(np.prod(conv_layer.get_weights()[0].shape))\n",
        "            kernel = kernel.reshape(list(reversed(conv_layer.get_weights()[0].shape)))\n",
        "            kernel = kernel.transpose([2,3,1,0])\n",
        "            conv_layer.set_weights([kernel, bias])\n",
        "        else: ## without bias\n",
        "            kernel = weight_reader.read_bytes(np.prod(conv_layer.get_weights()[0].shape))\n",
        "            kernel = kernel.reshape(list(reversed(conv_layer.get_weights()[0].shape)))\n",
        "            kernel = kernel.transpose([2,3,1,0])\n",
        "            conv_layer.set_weights([kernel])\n",
        "    return(model)\n",
        "\n",
        "\n",
        "nb_conv = 22\n",
        "model = set_pretrained_weight(model,nb_conv, path_to_weight)"
      ],
      "execution_count": null,
      "outputs": []
    },
    {
      "cell_type": "code",
      "metadata": {
        "id": "-R3eo65BZaNc"
      },
      "source": [
        "# The last layer 23th - initialize weight\n",
        "\n",
        "def initialize_weight(layer,sd):\n",
        "    weights = layer.get_weights()\n",
        "    new_kernel = np.random.normal(size=weights[0].shape, scale=sd)\n",
        "    new_bias   = np.random.normal(size=weights[1].shape, scale=sd)\n",
        "    layer.set_weights([new_kernel, new_bias])\n",
        "    \n",
        "layer   = model.layers[-4] # the last conv layer\n",
        "initialize_weight(layer,sd=GRID_H*GRID_W)"
      ],
      "execution_count": null,
      "outputs": []
    },
    {
      "cell_type": "code",
      "metadata": {
        "id": "AHVTe25VYuY9"
      },
      "source": [
        "''''''''''''''''''''''''''''''''''''''''''''''''''''''''''''''' ** Loss funcion of Model '''''''''''''''''''''''''''''''''''''''''''''''''''''''''''''''''''"
      ],
      "execution_count": null,
      "outputs": []
    },
    {
      "cell_type": "code",
      "metadata": {
        "id": "0YJCSFqmeIU7"
      },
      "source": [
        "ANCHORS = np.array([1.07709888,  1.78171903, \n",
        "                    2.71054693,  5.12469308,  \n",
        "                   10.47181473, 10.09646365, \n",
        "                    5.48531347,  8.11011331]) "
      ],
      "execution_count": null,
      "outputs": []
    },
    {
      "cell_type": "code",
      "metadata": {
        "id": "5jrSPkJoeLeb"
      },
      "source": [
        "LABELS = ['aeroplane', 'bicycle', 'bird', 'boat', 'bottle', 'bus', 'car', 'cat', 'chair', 'cow',  'diningtable',\n",
        "          'dog', 'horse', 'motorbike', 'person', 'pottedplant', 'sheep', 'sofa', 'train', 'tvmonitor']"
      ],
      "execution_count": null,
      "outputs": []
    },
    {
      "cell_type": "code",
      "metadata": {
        "id": "AV0ocIDweSnT"
      },
      "source": [
        "train_image_folder = \"/content/drive/My Drive/YOLO-objectdetection-Mina/voc2012_raw/VOCdevkit/VOC2012/JPEGImages/\"\n",
        "train_annot_folder = \"/content/drive/My Drive/YOLO-objectdetection-Mina/voc2012_raw/VOCdevkit/VOC2012/Annotations/\""
      ],
      "execution_count": null,
      "outputs": []
    },
    {
      "cell_type": "code",
      "metadata": {
        "id": "EKAx9cdxSLGZ"
      },
      "source": [
        "import xml.etree.ElementTree as ET\n",
        "\n",
        "def parse_annotation(ann_dir, img_dir, labels=[]):\n",
        "    \n",
        "\n",
        "    all_imgs = []\n",
        "    seen_labels = {}\n",
        "    \n",
        "    for ann in sorted(os.listdir(ann_dir)):\n",
        "        if \"xml\" not in ann:\n",
        "            continue\n",
        "        img = {'object':[]}\n",
        "\n",
        "        tree = ET.parse(ann_dir + ann)\n",
        "        \n",
        "        for elem in tree.iter():\n",
        "            if 'filename' in elem.tag:\n",
        "                path_to_image = img_dir + elem.text\n",
        "                img['filename'] = path_to_image\n",
        "                \n",
        "                if not os.path.exists(path_to_image):\n",
        "                    assert False, \"file does not exist!\\n{}\".format(path_to_image)\n",
        "            if 'width' in elem.tag:\n",
        "                img['width'] = int(elem.text)\n",
        "            if 'height' in elem.tag:\n",
        "                img['height'] = int(elem.text)\n",
        "            if 'object' in elem.tag or 'part' in elem.tag:\n",
        "                obj = {}\n",
        "                \n",
        "                for attr in list(elem):\n",
        "                    if 'name' in attr.tag:\n",
        "                        \n",
        "                        obj['name'] = attr.text\n",
        "                        \n",
        "                        if len(labels) > 0 and obj['name'] not in labels:\n",
        "                            break\n",
        "                        else:\n",
        "                            img['object'] += [obj]\n",
        "                            \n",
        "                        \n",
        "\n",
        "                        if obj['name'] in seen_labels:\n",
        "                            seen_labels[obj['name']] += 1\n",
        "                        else:\n",
        "                            seen_labels[obj['name']]  = 1\n",
        "                        \n",
        "\n",
        "                            \n",
        "                    if 'bndbox' in attr.tag:\n",
        "                        for dim in list(attr):\n",
        "                            if 'xmin' in dim.tag:\n",
        "                                obj['xmin'] = int(round(float(dim.text)))\n",
        "                            if 'ymin' in dim.tag:\n",
        "                                obj['ymin'] = int(round(float(dim.text)))\n",
        "                            if 'xmax' in dim.tag:\n",
        "                                obj['xmax'] = int(round(float(dim.text)))\n",
        "                            if 'ymax' in dim.tag:\n",
        "                                obj['ymax'] = int(round(float(dim.text)))\n",
        "\n",
        "        if len(img['object']) > 0:\n",
        "            all_imgs += [img]\n",
        "                        \n",
        "    return all_imgs, seen_labels"
      ],
      "execution_count": null,
      "outputs": []
    },
    {
      "cell_type": "code",
      "metadata": {
        "id": "UdZ1aq8pajlb",
        "outputId": "f4e81693-e667-4f51-ca04-6f04871c9d41",
        "colab": {
          "base_uri": "https://localhost:8080/",
          "height": 35
        }
      },
      "source": [
        "# Preprocess annotations \n",
        "np.random.seed(1)\n",
        "train_image = []\n",
        "seen_train_labels = {}\n",
        "\n",
        "train_image, seen_train_labels = parse_annotation(train_annot_folder,train_image_folder, labels=LABELS)\n",
        "print(\"Number of image for train = {}\".format(len(train_image)))\n"
      ],
      "execution_count": null,
      "outputs": [
        {
          "output_type": "stream",
          "text": [
            "Number of image for train = 17125\n"
          ],
          "name": "stdout"
        }
      ]
    },
    {
      "cell_type": "code",
      "metadata": {
        "id": "MYWC5W8Xb9Y0"
      },
      "source": [
        "from keras.utils import Sequence\n",
        "\n",
        "class SimpleBatchGenerator(Sequence):\n",
        "\n",
        "\n",
        "    def __init__(self, images, config, norm=None, shuffle=True):\n",
        "\n",
        "        self.config = config\n",
        "        self.config[\"BOX\"] = int(len(self.config['ANCHORS'])/2)\n",
        "        self.config[\"CLASS\"] = len(self.config['LABELS'])\n",
        "        self.images = images\n",
        "        self.bestAnchorBoxFinder = BestAnchorBoxFinder(config['ANCHORS'])\n",
        "        self.imageReader = ImageReader(config['IMAGE_H'],config['IMAGE_W'],norm=norm)\n",
        "        self.shuffle = shuffle\n",
        "        if self.shuffle: \n",
        "            np.random.shuffle(self.images)\n",
        "            \n",
        "    def __len__(self):\n",
        "        return int(np.ceil(float(len(self.images))/self.config['BATCH_SIZE']))  \n",
        "    \n",
        "    def __getitem__(self, idx):\n",
        "\n",
        "        l_bound = idx*self.config['BATCH_SIZE']\n",
        "        r_bound = (idx+1)*self.config['BATCH_SIZE']\n",
        "\n",
        "        if r_bound > len(self.images):\n",
        "            r_bound = len(self.images)\n",
        "            l_bound = r_bound - self.config['BATCH_SIZE']\n",
        "\n",
        "        instance_count = 0\n",
        "        \n",
        "        \n",
        "        x_batch = np.zeros((r_bound - l_bound, self.config['IMAGE_H'], self.config['IMAGE_W'], 3)) # input images\n",
        "        b_batch = np.zeros((r_bound - l_bound, 1     , 1     , 1    ,  self.config['TRUE_BOX_BUFFER'], 4))  \n",
        "        y_batch = np.zeros((r_bound - l_bound, self.config['GRID_H'],  self.config['GRID_W'], self.config['BOX'], 4+1+len(self.config['LABELS']))) # desired network output\n",
        "\n",
        "        for train_instance in self.images[l_bound:r_bound]:\n",
        "            img, all_objs = self.imageReader.fit(train_instance)\n",
        "            \n",
        "            # construct output from object's x, y, w, h\n",
        "            true_box_index = 0\n",
        "            \n",
        "            for obj in all_objs:\n",
        "                if obj['xmax'] > obj['xmin'] and obj['ymax'] > obj['ymin'] and obj['name'] in self.config['LABELS']:\n",
        "                    center_x, center_y = rescale_centerxy(obj,self.config)\n",
        "                    \n",
        "                    grid_x = int(np.floor(center_x))\n",
        "                    grid_y = int(np.floor(center_y))\n",
        "\n",
        "                    if grid_x < self.config['GRID_W'] and grid_y < self.config['GRID_H']:\n",
        "                        obj_indx  = self.config['LABELS'].index(obj['name'])\n",
        "                        center_w, center_h = rescale_cebterwh(obj,self.config)\n",
        "                        box = [center_x, center_y, center_w, center_h]\n",
        "                        best_anchor,max_iou = self.bestAnchorBoxFinder.find(center_w, center_h)\n",
        "\n",
        "                        y_batch[instance_count, grid_y, grid_x, best_anchor, 0:4] = box # center_x, center_y, w, h\n",
        "                        y_batch[instance_count, grid_y, grid_x, best_anchor, 4  ] = 1. # ground truth confidence is 1\n",
        "                        y_batch[instance_count, grid_y, grid_x, best_anchor, 5+obj_indx] = 1 # class probability of the object\n",
        "                        \n",
        "                        # assign the true box to b_batch\n",
        "                        b_batch[instance_count, 0, 0, 0, true_box_index] = box\n",
        "                        \n",
        "                        true_box_index += 1\n",
        "                        true_box_index = true_box_index % self.config['TRUE_BOX_BUFFER']\n",
        "                            \n",
        "            x_batch[instance_count] = img\n",
        "            # increase instance counter in current batch\n",
        "            instance_count += 1  \n",
        "        return [x_batch, b_batch], y_batch\n",
        "\n",
        "    def on_epoch_end(self):\n",
        "        if self.shuffle: \n",
        "            np.random.shuffle(self.images)"
      ],
      "execution_count": null,
      "outputs": []
    },
    {
      "cell_type": "code",
      "metadata": {
        "id": "ZJ7W90xHxY1t"
      },
      "source": [
        "#from keras import backend"
      ],
      "execution_count": null,
      "outputs": []
    },
    {
      "cell_type": "code",
      "metadata": {
        "id": "ROQgO1eMeYrL"
      },
      "source": [
        "#from backend import SimpleBatchGenerator\n",
        "\n",
        "BATCH_SIZE        = 500\n",
        "IMAGE_H, IMAGE_W  = 416, 416\n",
        "GRID_H,  GRID_W   = 13 , 13\n",
        "TRUE_BOX_BUFFER   = 50\n",
        "BOX               = int(len(ANCHORS)/2)\n",
        "# CLASS             = len(LABELS)\n",
        "\n",
        "generator_config = {\n",
        "    'IMAGE_H'         : IMAGE_H, \n",
        "    'IMAGE_W'         : IMAGE_W,\n",
        "    'GRID_H'          : GRID_H,  \n",
        "    'GRID_W'          : GRID_W,\n",
        "    'LABELS'          : LABELS,\n",
        "    'ANCHORS'         : ANCHORS,\n",
        "    'BATCH_SIZE'      : BATCH_SIZE,\n",
        "    'TRUE_BOX_BUFFER' : TRUE_BOX_BUFFER,\n",
        "}\n",
        "\n",
        "\n",
        "def normalize(image):\n",
        "    return image / 255.\n",
        "train_batch_generator = SimpleBatchGenerator(train_image, generator_config,\n",
        "                                             norm=normalize, shuffle=True)\n",
        "\n",
        "[x_batch,b_batch],y_batch = train_batch_generator.__getitem__(idx=3)"
      ],
      "execution_count": null,
      "outputs": []
    },
    {
      "cell_type": "code",
      "metadata": {
        "id": "JTrL1bcXe6x0"
      },
      "source": [
        "LAMBDA_NO_OBJECT = 1.0\n",
        "LAMBDA_OBJECT    = 5.0\n",
        "LAMBDA_COORD     = 1.0\n",
        "LAMBDA_CLASS     = 1.0"
      ],
      "execution_count": null,
      "outputs": []
    },
    {
      "cell_type": "code",
      "metadata": {
        "id": "C8efI6-XfE8l"
      },
      "source": [
        "def get_cell_grid(GRID_W,GRID_H,BATCH_SIZE,BOX): \n",
        "\n",
        "\n",
        "    ## cell_x.shape = (1, 13, 13, 1, 1)\n",
        "    ## cell_x[:,i,j,:] = [[[j]]]\n",
        "    cell_x = tf.to_float(tf.reshape(tf.tile(tf.range(GRID_W), [GRID_H]), (1, GRID_H, GRID_W, 1, 1)))\n",
        "\n",
        "\n",
        "    ## cell_y.shape = (1, 13, 13, 1, 1)\n",
        "    ## cell_y[:,i,j,:] = [[[i]]]\n",
        "    cell_y = tf.transpose(cell_x, (0,2,1,3,4))\n",
        "\n",
        "\n",
        "    ## cell_gird.shape = (16, 13, 13, 5, 2)\n",
        "    ## for any n, k, i, j\n",
        "    ##    cell_grid[n, i, j, anchor, k] = j when k = 0\n",
        "    ## for any n, k, i, j\n",
        "    ##    cell_grid[n, i, j, anchor, k] = i when k = 1    \n",
        "    cell_grid = tf.tile(tf.concat([cell_x,cell_y], -1), [BATCH_SIZE, 1, 1, BOX, 1])\n",
        "    return(cell_grid) \n",
        "\n",
        "def adjust_scale_prediction(y_pred, cell_grid, ANCHORS):    # y_pred: takes any real values- tensor of shape = (N batch, NGrid h, NGrid w, NAnchor, 4 + 1 + N class)\n",
        "                                                            #  ANCHORS: list containing width and height specializaiton of anchor box\n",
        "   \n",
        "    \"\"\"\n",
        "  \n",
        "     pred_box_xy : shape = (N batch, N grid x, N grid y, N anchor, 2), contianing [center_y, center_x] rangining [0,0]x[grid_H-1,grid_W-1]\n",
        "     pred_box_xy[irow,igrid_h,igrid_w,ianchor,0] =  center_x\n",
        "     pred_box_xy[irow,igrid_h,igrid_w,ianchor,1] =  center_1\n",
        "          \n",
        "     calculation process:\n",
        "     tf.sigmoid(y_pred[...,:2]) : takes values between 0 and 1\n",
        "     tf.sigmoid(y_pred[...,:2]) + cell_grid : takes values between 0 and grid_W - 1 for x coordinate \n",
        "                                              takes values between 0 and grid_H - 1 for y coordinate \n",
        "    \"\"\"\n",
        "\n",
        "\n",
        "    BOX = int(len(ANCHORS)/2)\n",
        "    \n",
        "    # adjust x and y  \n",
        "    # the bounding box bx and by are rescaled to range between 0 and 1 for given gird.\n",
        "    # Since there are BOX x BOX grids, we rescale each bx and by to range between 0 to BOX + 1\n",
        "    pred_box_xy = tf.sigmoid(y_pred[..., :2]) + cell_grid # bx, by\n",
        "    \n",
        "    # adjust w and h\n",
        "    # exp to make width and height positive\n",
        "    # rescale each grid to make some anchor \"good\" at representing certain shape of bounding box \n",
        "    pred_box_wh = tf.exp(y_pred[..., 2:4]) * np.reshape(ANCHORS,[1,1,1,BOX,2]) # bw, bh - shape = (N batch, N grid h, N grid w, N anchor, 2), containing width and height, rangining [0,0]x[grid_H-1,grid_W-1]\n",
        "\n",
        "    # adjust confidence \n",
        "    pred_box_conf = tf.sigmoid(y_pred[..., 4])# prob bb - shape = (N batch, N grid h, N grid w, N anchor, 1), containing confidence to range between 0 and 1\n",
        "\n",
        "    # adjust class probabilities \n",
        "    pred_box_class = y_pred[..., 5:] # prC1, prC2, ..., prC20 - shape = (N batch, N grid h, N grid w, N anchor, 1), containing confidence to range between 0 and 1\n",
        "    \n",
        "    return(pred_box_xy,pred_box_wh,pred_box_conf,pred_box_class)"
      ],
      "execution_count": null,
      "outputs": []
    },
    {
      "cell_type": "code",
      "metadata": {
        "id": "lt7xzT3NfB85",
        "outputId": "3d73375b-ec71-4a03-a6aa-65c13395d5d2",
        "colab": {
          "base_uri": "https://localhost:8080/",
          "height": 910
        }
      },
      "source": [
        "\n",
        "\n",
        "def print_min_max(vec,title):\n",
        "    print(\"{} MIN={:5.2f}, MAX={:5.2f}\".format(\n",
        "        title,np.min(vec),np.max(vec)))\n",
        "\n",
        "print(\"*\"*30)\n",
        "print(\"prepare inputs\")\n",
        "GRID_W = 13 \n",
        "GRID_H = 13 \n",
        "BOX    = int(len(ANCHORS)/2)\n",
        "CLASS = len(LABELS)\n",
        "size   = BATCH_SIZE*GRID_W*GRID_H*BOX*(4 + 1 + CLASS)\n",
        "y_pred = np.random.normal(size=size,scale = 10/(GRID_H*GRID_W)) \n",
        "y_pred = y_pred.reshape(BATCH_SIZE,GRID_H,GRID_W,BOX,4 + 1 + CLASS)\n",
        "print(\"y_pred before scaling = {}\".format(y_pred.shape))\n",
        "\n",
        "print(\"*\"*30)\n",
        "print(\"define tensor graph\")\n",
        "y_pred_tf = tf.constant(y_pred,dtype=\"float32\")\n",
        "cell_grid = get_cell_grid(GRID_W,GRID_H,BATCH_SIZE,BOX)\n",
        "(pred_box_xy_tf,   pred_box_wh_tf, \n",
        " pred_box_conf_tf, pred_box_class_tf) = adjust_scale_prediction(y_pred_tf, \n",
        "                                                                cell_grid, \n",
        "                                                                ANCHORS)\n",
        "print(\"*\"*30 + \"\\nouput\\n\" + \"*\"*30) \n",
        "with tf.Session() as sess:\n",
        "    (pred_box_xy,   pred_box_wh, \n",
        "     pred_box_conf, pred_box_class) = sess.run(\n",
        "        [pred_box_xy_tf,   pred_box_wh_tf,\n",
        "         pred_box_conf_tf, pred_box_class_tf])\n",
        "    \n",
        "print(\"\\npred_box_xy {}\".format(pred_box_xy.shape))           \n",
        "for igrid_w in range(pred_box_xy.shape[2]):\n",
        "        print_min_max(pred_box_xy[:,:,igrid_w,:,0].flatten(),\n",
        "                      \"  bounding box x at iGRID_W={:02.0f}\".format(igrid_w))\n",
        "for igrid_h in range(pred_box_xy.shape[1]):\n",
        "    print_min_max(pred_box_xy[:,igrid_h,:,:,1].flatten(),\n",
        "                  \"  bounding box y at iGRID_H={:02.0f}\".format(igrid_h)) \n",
        "    \n",
        "print(\"\\npred_box_wh {}\".format(pred_box_wh.shape))\n",
        "print_min_max(pred_box_wh[:,:,:,:,0].flatten(),\"  bounding box width \") \n",
        "print_min_max(pred_box_wh[:,:,:,:,1].flatten(),\"  bounding box height\") \n",
        "    \n",
        "print(\"\\npred_box_conf {}\".format(pred_box_conf.shape))\n",
        "print_min_max(pred_box_conf.flatten(),\"  confidence \") \n",
        "\n",
        "print(\"\\npred_box_class {}\".format(pred_box_class.shape))\n",
        "print_min_max(pred_box_class.flatten(),\"  class probability\") "
      ],
      "execution_count": null,
      "outputs": [
        {
          "output_type": "stream",
          "text": [
            "******************************\n",
            "prepare inputs\n",
            "y_pred before scaling = (500, 13, 13, 4, 25)\n",
            "******************************\n",
            "define tensor graph\n",
            "WARNING:tensorflow:From <ipython-input-41-7efab0e553e7>:6: to_float (from tensorflow.python.ops.math_ops) is deprecated and will be removed in a future version.\n",
            "Instructions for updating:\n",
            "Use `tf.cast` instead.\n",
            "******************************\n",
            "ouput\n",
            "******************************\n",
            "\n",
            "pred_box_xy (500, 13, 13, 4, 2)\n",
            "  bounding box x at iGRID_W=00 MIN= 0.44, MAX= 0.55\n",
            "  bounding box x at iGRID_W=01 MIN= 1.44, MAX= 1.56\n",
            "  bounding box x at iGRID_W=02 MIN= 2.44, MAX= 2.56\n",
            "  bounding box x at iGRID_W=03 MIN= 3.43, MAX= 3.56\n",
            "  bounding box x at iGRID_W=04 MIN= 4.44, MAX= 4.56\n",
            "  bounding box x at iGRID_W=05 MIN= 5.44, MAX= 5.56\n",
            "  bounding box x at iGRID_W=06 MIN= 6.44, MAX= 6.56\n",
            "  bounding box x at iGRID_W=07 MIN= 7.44, MAX= 7.56\n",
            "  bounding box x at iGRID_W=08 MIN= 8.44, MAX= 8.56\n",
            "  bounding box x at iGRID_W=09 MIN= 9.44, MAX= 9.55\n",
            "  bounding box x at iGRID_W=10 MIN=10.44, MAX=10.56\n",
            "  bounding box x at iGRID_W=11 MIN=11.44, MAX=11.56\n",
            "  bounding box x at iGRID_W=12 MIN=12.44, MAX=12.56\n",
            "  bounding box y at iGRID_H=00 MIN= 0.44, MAX= 0.57\n",
            "  bounding box y at iGRID_H=01 MIN= 1.45, MAX= 1.56\n",
            "  bounding box y at iGRID_H=02 MIN= 2.44, MAX= 2.56\n",
            "  bounding box y at iGRID_H=03 MIN= 3.44, MAX= 3.57\n",
            "  bounding box y at iGRID_H=04 MIN= 4.44, MAX= 4.56\n",
            "  bounding box y at iGRID_H=05 MIN= 5.44, MAX= 5.56\n",
            "  bounding box y at iGRID_H=06 MIN= 6.44, MAX= 6.56\n",
            "  bounding box y at iGRID_H=07 MIN= 7.45, MAX= 7.55\n",
            "  bounding box y at iGRID_H=08 MIN= 8.44, MAX= 8.56\n",
            "  bounding box y at iGRID_H=09 MIN= 9.44, MAX= 9.56\n",
            "  bounding box y at iGRID_H=10 MIN=10.44, MAX=10.55\n",
            "  bounding box y at iGRID_H=11 MIN=11.44, MAX=11.57\n",
            "  bounding box y at iGRID_H=12 MIN=12.44, MAX=12.56\n",
            "\n",
            "pred_box_wh (500, 13, 13, 4, 2)\n",
            "  bounding box width  MIN= 0.81, MAX=13.47\n",
            "  bounding box height MIN= 1.37, MAX=12.87\n",
            "\n",
            "pred_box_conf (500, 13, 13, 4)\n",
            "  confidence  MIN= 0.43, MAX= 0.57\n",
            "\n",
            "pred_box_class (500, 13, 13, 4, 20)\n",
            "  class probability MIN=-0.30, MAX= 0.29\n"
          ],
          "name": "stdout"
        }
      ]
    },
    {
      "cell_type": "code",
      "metadata": {
        "id": "OALYv8MtfMdg"
      },
      "source": [
        "\n",
        "def extract_ground_truth(y_true):    \n",
        "    true_box_xy    = y_true[..., 0:2] # bound box x, y coordinate in grid cell scale \n",
        "    true_box_wh    = y_true[..., 2:4] # number of cells accross, horizontally and vertically\n",
        "    true_box_conf  = y_true[...,4]    # confidence \n",
        "    true_box_class = tf.argmax(y_true[..., 5:], -1)\n",
        "    return(true_box_xy, true_box_wh, true_box_conf, true_box_class)"
      ],
      "execution_count": null,
      "outputs": []
    },
    {
      "cell_type": "code",
      "metadata": {
        "id": "AqQjccrofQQo",
        "outputId": "329dd0af-8b8e-4713-e2c9-9419b700678d",
        "colab": {
          "base_uri": "https://localhost:8080/",
          "height": 782
        }
      },
      "source": [
        "# y_batch is the output of the simpleBatchGenerator.fit()\n",
        "print(\"Input y_batch = {}\".format(y_batch.shape))\n",
        "\n",
        "y_batch_tf = tf.constant(y_batch,dtype=\"float32\")\n",
        "(true_box_xy_tf, true_box_wh_tf, \n",
        " true_box_conf_tf, true_box_class_tf) = extract_ground_truth(y_batch_tf)\n",
        "\n",
        "print(\"*\"*30 + \"\\nouput\\n\" + \"*\"*30) \n",
        "\n",
        "with tf.Session() as sess:\n",
        "        (true_box_xy, true_box_wh, \n",
        "         true_box_conf, true_box_class) = sess.run(\n",
        "                    [true_box_xy_tf,   true_box_wh_tf, \n",
        "                     true_box_conf_tf, true_box_class_tf])\n",
        "\n",
        "print(\"\\ntrue_box_xy {}\".format(true_box_xy.shape))        \n",
        "for igrid_w in range(true_box_xy.shape[2]):\n",
        "    vec  = true_box_xy[:,:,igrid_w,:,0].flatten()\n",
        "    pick = true_box_conf[:,:,igrid_w,:].flatten() == 1 ## only pick C_ij = 1\n",
        "    print_min_max(vec[pick],\"  bounding box x at iGRID_W={:02.0f}\".format(igrid_w))\n",
        "    \n",
        "for igrid_h in range(true_box_xy.shape[1]):\n",
        "    vec  = true_box_xy[:,igrid_h,:,:,1].flatten()\n",
        "    pick = true_box_conf[:,igrid_h,:,:].flatten() == 1 ## only pick C_ij = 1\n",
        "    print_min_max(vec[pick],\"  bounding box y at iGRID_H={:02.0f}\".format(igrid_h)) \n",
        "    \n",
        "print(\"\\ntrue_box_wh {}\".format(true_box_wh.shape))\n",
        "print_min_max(true_box_wh[:,:,:,:,0].flatten(),\"  bounding box width \") \n",
        "print_min_max(true_box_wh[:,:,:,:,1].flatten(),\"  bounding box height\") \n",
        "    \n",
        "print(\"\\ntrue_box_conf {}\".format(true_box_conf.shape))\n",
        "print(\"  confidence, unique value = {}\".format(np.unique(true_box_conf.flatten()))) \n",
        "\n",
        "print(\"\\ntrue_box_class {}\".format(true_box_class.shape))\n",
        "print(\"  class index, unique value = {}\".format(np.unique(true_box_class.flatten())) )"
      ],
      "execution_count": null,
      "outputs": [
        {
          "output_type": "stream",
          "text": [
            "Input y_batch = (500, 13, 13, 4, 25)\n",
            "******************************\n",
            "ouput\n",
            "******************************\n",
            "\n",
            "true_box_xy (500, 13, 13, 4, 2)\n",
            "  bounding box x at iGRID_W=00 MIN= 0.17, MAX= 0.94\n",
            "  bounding box x at iGRID_W=01 MIN= 1.00, MAX= 1.97\n",
            "  bounding box x at iGRID_W=02 MIN= 2.02, MAX= 2.98\n",
            "  bounding box x at iGRID_W=03 MIN= 3.03, MAX= 3.97\n",
            "  bounding box x at iGRID_W=04 MIN= 4.02, MAX= 4.98\n",
            "  bounding box x at iGRID_W=05 MIN= 5.00, MAX= 5.98\n",
            "  bounding box x at iGRID_W=06 MIN= 6.00, MAX= 6.98\n",
            "  bounding box x at iGRID_W=07 MIN= 7.00, MAX= 7.98\n",
            "  bounding box x at iGRID_W=08 MIN= 8.02, MAX= 8.98\n",
            "  bounding box x at iGRID_W=09 MIN= 9.02, MAX= 9.98\n",
            "  bounding box x at iGRID_W=10 MIN=10.00, MAX=10.97\n",
            "  bounding box x at iGRID_W=11 MIN=11.00, MAX=11.98\n",
            "  bounding box x at iGRID_W=12 MIN=12.00, MAX=12.84\n",
            "  bounding box y at iGRID_H=00 MIN= 0.41, MAX= 0.92\n",
            "  bounding box y at iGRID_H=01 MIN= 1.02, MAX= 1.80\n",
            "  bounding box y at iGRID_H=02 MIN= 2.00, MAX= 2.97\n",
            "  bounding box y at iGRID_H=03 MIN= 3.03, MAX= 3.98\n",
            "  bounding box y at iGRID_H=04 MIN= 4.00, MAX= 4.98\n",
            "  bounding box y at iGRID_H=05 MIN= 5.00, MAX= 5.98\n",
            "  bounding box y at iGRID_H=06 MIN= 6.00, MAX= 6.98\n",
            "  bounding box y at iGRID_H=07 MIN= 7.00, MAX= 7.98\n",
            "  bounding box y at iGRID_H=08 MIN= 8.00, MAX= 8.98\n",
            "  bounding box y at iGRID_H=09 MIN= 9.00, MAX= 9.97\n",
            "  bounding box y at iGRID_H=10 MIN=10.00, MAX=10.97\n",
            "  bounding box y at iGRID_H=11 MIN=11.00, MAX=11.98\n",
            "  bounding box y at iGRID_H=12 MIN=12.02, MAX=12.41\n",
            "\n",
            "true_box_wh (500, 13, 13, 4, 2)\n",
            "  bounding box width  MIN= 0.00, MAX=13.00\n",
            "  bounding box height MIN= 0.00, MAX=13.00\n",
            "\n",
            "true_box_conf (500, 13, 13, 4)\n",
            "  confidence, unique value = [0. 1.]\n",
            "\n",
            "true_box_class (500, 13, 13, 4)\n",
            "  class index, unique value = [ 0  1  2  3  4  5  6  7  8  9 10 11 12 13 14 15 16 17 18 19]\n"
          ],
          "name": "stdout"
        }
      ]
    },
    {
      "cell_type": "code",
      "metadata": {
        "id": "wgSS5RVsfnIE"
      },
      "source": [
        "# calculate the loss specific to the bounding box parameters\n",
        "def calc_loss_xywh(true_box_conf,\n",
        "                   COORD_SCALE,\n",
        "                   true_box_xy, pred_box_xy,true_box_wh,pred_box_wh):  \n",
        "\n",
        "    # lambda_{coord} L_{i,j}^{obj} \n",
        "    # np.array of shape (Nbatch, Ngrid h, N grid w, N anchor, 1)\n",
        "    coord_mask  = tf.expand_dims(true_box_conf, axis=-1) * COORD_SCALE \n",
        "    nb_coord_box = tf.reduce_sum(tf.to_float(coord_mask > 0.0))\n",
        "    loss_xy      = tf.reduce_sum(tf.square(true_box_xy-pred_box_xy) * coord_mask) / (nb_coord_box + 1e-6) / 2.\n",
        "    loss_wh      = tf.reduce_sum(tf.square(true_box_wh-pred_box_wh) * coord_mask) / (nb_coord_box + 1e-6) / 2.\n",
        "    return(loss_xy + loss_wh, coord_mask)"
      ],
      "execution_count": null,
      "outputs": []
    },
    {
      "cell_type": "code",
      "metadata": {
        "id": "eNvnHAiDfqIv",
        "outputId": "e72366ae-9d3b-4f11-eb7f-ed844126d165",
        "colab": {
          "base_uri": "https://localhost:8080/",
          "height": 90
        }
      },
      "source": [
        "# calc_loss_xywh\n",
        "\n",
        "LAMBDA_COORD = 1\n",
        "loss_xywh_tf, coord_mask_tf  = calc_loss_xywh(true_box_conf_tf,LAMBDA_COORD,\n",
        "                                              true_box_xy_tf, pred_box_xy_tf,\n",
        "                                              true_box_wh_tf,pred_box_wh_tf)\n",
        "\n",
        "print(\"*\"*30 + \"\\nouput\\n\" + \"*\"*30) \n",
        "\n",
        "with tf.Session() as sess:\n",
        "        loss_xywh = sess.run([loss_xywh_tf])[0]\n",
        "print(\"loss_xywh = {:4.3f}\".format(loss_xywh))"
      ],
      "execution_count": null,
      "outputs": [
        {
          "output_type": "stream",
          "text": [
            "******************************\n",
            "ouput\n",
            "******************************\n",
            "loss_xywh = 3.281\n"
          ],
          "name": "stdout"
        }
      ]
    },
    {
      "cell_type": "code",
      "metadata": {
        "id": "JbmnTvB1fr5l"
      },
      "source": [
        "\n",
        "def calc_loss_class(true_box_conf,CLASS_SCALE, true_box_class,pred_box_class): #    true_box_conf  : tensor of shape (N batch, N grid h, N grid w, N anchor)\n",
        "                                                                               # true_box_class : tensor of shape (N batch, N grid h, N grid w, N anchor), containing class index\n",
        "                                                                               # pred_box_class : tensor of shape (N batch, N grid h, N grid w, N anchor, N class)\n",
        "                                                                               # CLASS_SCALE    : 1.0\n",
        "   \n",
        "    class_mask   = true_box_conf  * CLASS_SCALE # L_{i,j}^obj * lambda_class\n",
        "    \n",
        "    nb_class_box = tf.reduce_sum(tf.to_float(class_mask > 0.0))\n",
        "    loss_class   = tf.nn.sparse_softmax_cross_entropy_with_logits(labels = true_box_class, \n",
        "                                                                  logits = pred_box_class)\n",
        "    loss_class   = tf.reduce_sum(loss_class * class_mask) / (nb_class_box + 1e-6)   \n",
        "    return(loss_class)\n",
        "\n",
        "    '''\n",
        "    class_mask\n",
        "    if object exists in this (grid_cell, anchor) pair and the class object receive nonzero weight\n",
        "        class_mask[iframe,igridy,igridx,ianchor] = 1 \n",
        "    else: \n",
        "        0 \n",
        "    '''"
      ],
      "execution_count": null,
      "outputs": []
    },
    {
      "cell_type": "code",
      "metadata": {
        "id": "CxXgC-FHfv2c",
        "outputId": "4fca93f7-cb82-4a5f-e29f-98df6d68c61e",
        "colab": {
          "base_uri": "https://localhost:8080/",
          "height": 90
        }
      },
      "source": [
        "LAMBDA_CLASS   = 1\n",
        "loss_class_tf  = calc_loss_class(true_box_conf_tf,LAMBDA_CLASS,\n",
        "                                 true_box_class_tf,pred_box_class_tf)\n",
        "print(\"*\"*30 + \"\\nouput\\n\" + \"*\"*30) \n",
        "with tf.Session() as sess:\n",
        "        loss_class = sess.run(loss_class_tf)\n",
        "print(\"loss_class = {:4.3f}\".format(loss_class))"
      ],
      "execution_count": null,
      "outputs": [
        {
          "output_type": "stream",
          "text": [
            "******************************\n",
            "ouput\n",
            "******************************\n",
            "loss_class = 3.000\n"
          ],
          "name": "stdout"
        }
      ]
    },
    {
      "cell_type": "code",
      "metadata": {
        "id": "zJ_gr83yfyq2"
      },
      "source": [
        "def get_intersect_area(true_xy,true_wh,pred_xy,pred_wh): #  true_xy,pred_xy, true_wh and pred_wh must have the same shape length\n",
        "\n",
        "\n",
        "    true_wh_half = true_wh / 2.\n",
        "    true_mins    = true_xy - true_wh_half\n",
        "    true_maxes   = true_xy + true_wh_half\n",
        "    \n",
        "    pred_wh_half = pred_wh / 2.\n",
        "    pred_mins    = pred_xy - pred_wh_half #(px1,py1)\n",
        "    pred_maxes   = pred_xy + pred_wh_half    \n",
        "    \n",
        "    intersect_mins  = tf.maximum(pred_mins,  true_mins)\n",
        "    intersect_maxes = tf.minimum(pred_maxes, true_maxes)\n",
        "    intersect_wh    = tf.maximum(intersect_maxes - intersect_mins, 0.)\n",
        "    intersect_areas = intersect_wh[..., 0] * intersect_wh[..., 1]\n",
        "    \n",
        "    true_areas = true_wh[..., 0] * true_wh[..., 1]\n",
        "    pred_areas = pred_wh[..., 0] * pred_wh[..., 1]\n",
        "\n",
        "    union_areas = pred_areas + true_areas - intersect_areas\n",
        "    iou_scores  = tf.truediv(intersect_areas, union_areas)    \n",
        "    return(iou_scores)\n",
        "\n",
        "def calc_IOU_pred_true_assigned(true_box_conf,\n",
        "                                true_box_xy, true_box_wh,\n",
        "                                pred_box_xy,  pred_box_wh):# true_box_conf: tensor of shape (N batch, N grid h, N grid w, N anchor )\n",
        "                                                            # true_box_xy : tensor of shape (N batch, N grid h, N grid w, N anchor , 2)\n",
        "                                                            # true_box_wh : tensor of shape (N batch, N grid h, N grid w, N anchor , 2)\n",
        "                                                            # pred_box_xy : tensor of shape (N batch, N grid h, N grid w, N anchor , 2)\n",
        "                                                            # pred_box_wh : tensor of shape (N batch, N grid h, N grid w, N anchor , 2)\n",
        "    '''  \n",
        "    true_box_conf value depends on the predicted values \n",
        "    true_box_conf = IOU_{true,pred} if objecte exist in this anchor else 0\n",
        "    '''\n",
        "    \n",
        "    iou_scores        =  get_intersect_area(true_box_xy,true_box_wh,\n",
        "                                            pred_box_xy,pred_box_wh)\n",
        "    true_box_conf_IOU = iou_scores * true_box_conf # true_box_conf : tensor of shape (N batch, N grid h, N grid w, N anchor)\n",
        "\n",
        "\n",
        "    return(true_box_conf_IOU)\n",
        "    "
      ],
      "execution_count": null,
      "outputs": []
    },
    {
      "cell_type": "code",
      "metadata": {
        "id": "HiFl6voAf3HW",
        "outputId": "17aa7f80-c1cb-48ed-9b62-35c87383cf92",
        "colab": {
          "base_uri": "https://localhost:8080/",
          "height": 274
        }
      },
      "source": [
        "true_box_conf_IOU_tf = calc_IOU_pred_true_assigned(\n",
        "                            true_box_conf_tf,\n",
        "                            true_box_xy_tf, true_box_wh_tf,\n",
        "                            pred_box_xy_tf,  pred_box_wh_tf)\n",
        "with tf.Session() as sess:\n",
        "    true_box_conf_IOU = sess.run(true_box_conf_IOU_tf)\n",
        "print(\"*\"*30 + \"\\ninput\\n\" + \"*\"*30)    \n",
        "print(\"true_box_conf_tf = {}\".format(true_box_conf_tf))\n",
        "print(\"true_box_xy_tf   = {}\".format(true_box_xy_tf))\n",
        "print(\"true_box_wh_tf   = {}\".format(true_box_wh_tf))\n",
        "print(\"pred_box_xy_tf   = {}\".format(pred_box_xy_tf))\n",
        "print(\"pred_box_wh_tf   = {}\".format(pred_box_wh_tf))\n",
        "print(\"*\"*30 + \"\\nouput\\n\" + \"*\"*30) \n",
        "print(\"true_box_conf_IOU.shape = {}\".format(true_box_conf_IOU.shape))\n",
        "\n",
        "\n",
        "\n",
        "'''\n",
        "vec  = true_box_conf_IOU.flatten()\n",
        "pick = vec!=0\n",
        "vec  = vec[pick]\n",
        "plt.hist(vec)\n",
        "plt.title(\"Histogram\\nN (%) nonzero true_box_conf_IOU = {} ({:5.2f}%)\".format(np.sum(pick),\n",
        "                                                             100*np.mean(pick)))\n",
        "plt.xlabel(\"nonzero true_box_conf_IOU\")\n",
        "plt.show()\n",
        "'''"
      ],
      "execution_count": null,
      "outputs": [
        {
          "output_type": "stream",
          "text": [
            "******************************\n",
            "input\n",
            "******************************\n",
            "true_box_conf_tf = Tensor(\"strided_slice_6:0\", shape=(500, 13, 13, 4), dtype=float32)\n",
            "true_box_xy_tf   = Tensor(\"strided_slice_4:0\", shape=(500, 13, 13, 4, 2), dtype=float32)\n",
            "true_box_wh_tf   = Tensor(\"strided_slice_5:0\", shape=(500, 13, 13, 4, 2), dtype=float32)\n",
            "pred_box_xy_tf   = Tensor(\"add:0\", shape=(500, 13, 13, 4, 2), dtype=float32)\n",
            "pred_box_wh_tf   = Tensor(\"mul:0\", shape=(500, 13, 13, 4, 2), dtype=float32)\n",
            "******************************\n",
            "ouput\n",
            "******************************\n",
            "true_box_conf_IOU.shape = (500, 13, 13, 4)\n"
          ],
          "name": "stdout"
        },
        {
          "output_type": "execute_result",
          "data": {
            "text/plain": [
              "'\\nvec  = true_box_conf_IOU.flatten()\\npick = vec!=0\\nvec  = vec[pick]\\nplt.hist(vec)\\nplt.title(\"Histogram\\nN (%) nonzero true_box_conf_IOU = {} ({:5.2f}%)\".format(np.sum(pick),\\n                                                             100*np.mean(pick)))\\nplt.xlabel(\"nonzero true_box_conf_IOU\")\\nplt.show()\\n'"
            ]
          },
          "metadata": {
            "tags": []
          },
          "execution_count": 50
        }
      ]
    },
    {
      "cell_type": "code",
      "metadata": {
        "id": "u9nRiQKjf7kf"
      },
      "source": [
        "def calc_IOU_pred_true_best(pred_box_xy,pred_box_wh,true_boxes):   # pred_box_xy : tensor of shape (N batch, N grid h, N grid w, N anchor, 2)\n",
        "                                                                   # pred_box_wh : tensor of shape (N batch, N grid h, N grid w, N anchor, 2)\n",
        "                                                                   # true_boxes  : tensor of shape (N batch, N grid h, N grid w, N anchor, 2)\n",
        "\n",
        "    true_xy = true_boxes[..., 0:2]           # (N batch, 1, 1, 1, TRUE_BOX_BUFFER, 2)\n",
        "    true_wh = true_boxes[..., 2:4]           # (N batch, 1, 1, 1, TRUE_BOX_BUFFER, 2)\n",
        "    \n",
        "    pred_xy = tf.expand_dims(pred_box_xy, 4) # (N batch, N grid_h, N grid_w, N anchor, 1, 2)\n",
        "    pred_wh = tf.expand_dims(pred_box_wh, 4) # (N batch, N grid_h, N grid_w, N anchor, 1, 2)\n",
        "    \n",
        "    iou_scores  =  get_intersect_area(true_xy,\n",
        "                                      true_wh,\n",
        "                                      pred_xy,\n",
        "                                      pred_wh) # (N batch, N grid_h, N grid_w, N anchor, 50)   \n",
        "\n",
        "    best_ious = tf.reduce_max(iou_scores, axis=4) # (N batch, N grid_h, N grid_w, N anchor)\n",
        "    return(best_ious)\n",
        "    \n"
      ],
      "execution_count": null,
      "outputs": []
    },
    {
      "cell_type": "code",
      "metadata": {
        "id": "LzczXmCTf_k3",
        "outputId": "e139f1b3-658a-472c-c42a-33a6e938c9b0",
        "colab": {
          "base_uri": "https://localhost:8080/",
          "height": 238
        }
      },
      "source": [
        "true_boxes_tf = tf.constant(b_batch,dtype=\"float32\")\n",
        "best_ious_tf = calc_IOU_pred_true_best(pred_box_xy_tf,\n",
        "                                       pred_box_wh_tf,\n",
        "                                       true_boxes_tf)\n",
        "with tf.Session() as sess:\n",
        "    best_ious = sess.run(best_ious_tf)\n",
        "    \n",
        "print(\"*\"*30 + \"\\ninput\\n\" + \"*\"*30)    \n",
        "print(\"true_box_wh_tf   = {}\".format(true_box_wh_tf))\n",
        "print(\"pred_box_xy_tf   = {}\".format(pred_box_xy_tf))\n",
        "print(\"pred_box_wh_tf   = {}\".format(pred_box_wh_tf))\n",
        "print(\"*\"*30 + \"\\nouput\\n\" + \"*\"*30) \n",
        "print(\"best_ious.shape = {}\".format(best_ious.shape))\n",
        "\n",
        "'''\n",
        "vec  = best_ious.flatten()\n",
        "pick = vec!=0\n",
        "vec  = vec[pick]\n",
        "plt.hist(vec)\n",
        "plt.title(\"Histogram\\nN (%) nonzero best_ious = {} ({:5.2f}%)\".format(np.sum(pick),\n",
        "                                                             100*np.mean(pick)))\n",
        "plt.xlabel(\"nonzero best_ious\")\n",
        "plt.show()\n",
        "'''"
      ],
      "execution_count": null,
      "outputs": [
        {
          "output_type": "stream",
          "text": [
            "******************************\n",
            "input\n",
            "******************************\n",
            "true_box_wh_tf   = Tensor(\"strided_slice_5:0\", shape=(500, 13, 13, 4, 2), dtype=float32)\n",
            "pred_box_xy_tf   = Tensor(\"add:0\", shape=(500, 13, 13, 4, 2), dtype=float32)\n",
            "pred_box_wh_tf   = Tensor(\"mul:0\", shape=(500, 13, 13, 4, 2), dtype=float32)\n",
            "******************************\n",
            "ouput\n",
            "******************************\n",
            "best_ious.shape = (500, 13, 13, 4)\n"
          ],
          "name": "stdout"
        },
        {
          "output_type": "execute_result",
          "data": {
            "text/plain": [
              "'\\nvec  = best_ious.flatten()\\npick = vec!=0\\nvec  = vec[pick]\\nplt.hist(vec)\\nplt.title(\"Histogram\\nN (%) nonzero best_ious = {} ({:5.2f}%)\".format(np.sum(pick),\\n                                                             100*np.mean(pick)))\\nplt.xlabel(\"nonzero best_ious\")\\nplt.show()\\n'"
            ]
          },
          "metadata": {
            "tags": []
          },
          "execution_count": 52
        }
      ]
    },
    {
      "cell_type": "code",
      "metadata": {
        "id": "aSIhYLllgCZa"
      },
      "source": [
        "def get_conf_mask(best_ious, true_box_conf, true_box_conf_IOU,LAMBDA_NO_OBJECT, LAMBDA_OBJECT):   \n",
        "  \n",
        "# best_ious           : tensor of shape (Nbatch, N grid h, N grid w, N anchor)\n",
        "# true_box_conf       : tensor of shape (Nbatch, N grid h, N grid w, N anchor)\n",
        "# true_box_conf_IOU   : tensor of shape (Nbatch, N grid h, N grid w, N anchor)\n",
        "# LAMBDA_NO_OBJECT    : 1.0\n",
        "# LAMBDA_OBJECT       : 5.0\n",
        "\n",
        "\n",
        "# conf_mask : tensor of shape (Nbatch, N grid h, N grid w, N anchor)       \n",
        "    conf_mask = tf.to_float(best_ious < 0.6) * (1 - true_box_conf) * LAMBDA_NO_OBJECT\n",
        "    conf_mask = conf_mask + true_box_conf_IOU * LAMBDA_OBJECT\n",
        "    return(conf_mask)"
      ],
      "execution_count": null,
      "outputs": []
    },
    {
      "cell_type": "code",
      "metadata": {
        "id": "2WyTddQAgGKm",
        "outputId": "efc726e7-adc0-4f69-dcc5-590e432d262e",
        "colab": {
          "base_uri": "https://localhost:8080/",
          "height": 236
        }
      },
      "source": [
        "conf_mask_tf = get_conf_mask(best_ious_tf, \n",
        "                             true_box_conf_tf, \n",
        "                             true_box_conf_IOU_tf,\n",
        "                             LAMBDA_NO_OBJECT, \n",
        "                             LAMBDA_OBJECT)\n",
        "print(\"*\"*30 + \"\\ninput\\n\" + \"*\"*30)  \n",
        "print(\"best_ious         = {}\".format(best_ious_tf)) \n",
        "print(\"true_box_conf     = {}\".format(true_box_conf_tf))\n",
        "print(\"true_box_conf_IOU = {}\".format(true_box_conf_IOU_tf))\n",
        "print(\"LAMBDA_NO_OBJECT  = {}\".format(LAMBDA_NO_OBJECT)) \n",
        "print(\"LAMBDA_OBJECT     = {}\".format(LAMBDA_OBJECT))\n",
        "with tf.Session() as sess:\n",
        "    conf_mask = sess.run(conf_mask_tf)\n",
        "print(\"*\"*30 + \"\\noutput\\n\" + \"*\"*30)      \n",
        "print(\"conf_mask shape = {}\".format(conf_mask.shape))"
      ],
      "execution_count": null,
      "outputs": [
        {
          "output_type": "stream",
          "text": [
            "******************************\n",
            "input\n",
            "******************************\n",
            "best_ious         = Tensor(\"Max:0\", shape=(500, 13, 13, 4), dtype=float32)\n",
            "true_box_conf     = Tensor(\"strided_slice_6:0\", shape=(500, 13, 13, 4), dtype=float32)\n",
            "true_box_conf_IOU = Tensor(\"mul_9:0\", shape=(500, 13, 13, 4), dtype=float32)\n",
            "LAMBDA_NO_OBJECT  = 1.0\n",
            "LAMBDA_OBJECT     = 5.0\n",
            "******************************\n",
            "output\n",
            "******************************\n",
            "conf_mask shape = (500, 13, 13, 4)\n"
          ],
          "name": "stdout"
        }
      ]
    },
    {
      "cell_type": "code",
      "metadata": {
        "id": "p0TK86k9gJRh"
      },
      "source": [
        "def calc_loss_conf(conf_mask,true_box_conf_IOU, pred_box_conf):  \n",
        "    '''\n",
        "    conf_mask         : tensor of shape (Nbatch, N grid h, N grid w, N anchor)\n",
        "    true_box_conf_IOU : tensor of shape (Nbatch, N grid h, N grid w, N anchor)\n",
        "    pred_box_conf     : tensor of shape (Nbatch, N grid h, N grid w, N anchor)\n",
        "    '''\n",
        "\n",
        "    \n",
        "    # the number of (grid cell, anchor) pair that has an assigned object or\n",
        "    # that has no assigned object but some objects may be in bounding box.\n",
        "    # Number of conf\n",
        "    nb_conf_box  = tf.reduce_sum(tf.to_float(conf_mask  > 0.0))\n",
        "    loss_conf    = tf.reduce_sum(tf.square(true_box_conf_IOU-pred_box_conf) * conf_mask)  / (nb_conf_box  + 1e-6) / 2.\n",
        "    return(loss_conf)"
      ],
      "execution_count": null,
      "outputs": []
    },
    {
      "cell_type": "code",
      "metadata": {
        "id": "Wj-axlZdgNQz",
        "outputId": "a6482caa-85ad-4135-fb72-768ab892d83e",
        "colab": {
          "base_uri": "https://localhost:8080/",
          "height": 199
        }
      },
      "source": [
        "print(\"*\"*30 + \"\\ninput\\n\" + \"*\"*30)  \n",
        "print(\"conf_mask_tf         = {}\".format(conf_mask_tf)) \n",
        "print(\"true_box_conf_IOU_tf = {}\".format(true_box_conf_IOU_tf))\n",
        "print(\"pred_box_conf_tf     = {}\".format(pred_box_conf_tf))\n",
        "\n",
        "loss_conf_tf = calc_loss_conf(conf_mask_tf,true_box_conf_IOU_tf, pred_box_conf_tf)\n",
        "with tf.Session() as sess:\n",
        "    loss_conf = sess.run(loss_conf_tf) \n",
        "    \n",
        "print(\"*\"*30 + \"\\noutput\\n\" + \"*\"*30)      \n",
        "print(\"loss_conf = {:5.4f}\".format(loss_conf))"
      ],
      "execution_count": null,
      "outputs": [
        {
          "output_type": "stream",
          "text": [
            "******************************\n",
            "input\n",
            "******************************\n",
            "conf_mask_tf         = Tensor(\"add_11:0\", shape=(500, 13, 13, 4), dtype=float32)\n",
            "true_box_conf_IOU_tf = Tensor(\"mul_9:0\", shape=(500, 13, 13, 4), dtype=float32)\n",
            "pred_box_conf_tf     = Tensor(\"Sigmoid_1:0\", shape=(500, 13, 13, 4), dtype=float32)\n",
            "******************************\n",
            "output\n",
            "******************************\n",
            "loss_conf = 0.1249\n"
          ],
          "name": "stdout"
        }
      ]
    },
    {
      "cell_type": "code",
      "metadata": {
        "id": "OY_IKn494FW8"
      },
      "source": [
        "########################\n",
        "def custom_loss_core(y_true,\n",
        "                     y_pred,\n",
        "                     true_boxes,\n",
        "                     GRID_W,\n",
        "                     GRID_H,\n",
        "                     BATCH_SIZE,\n",
        "                     ANCHORS,\n",
        "                     LAMBDA_COORD,\n",
        "                     LAMBDA_CLASS,\n",
        "                     LAMBDA_NO_OBJECT, \n",
        "                     LAMBDA_OBJECT):\n",
        "\n",
        "    BOX = int(len(ANCHORS)/2)    \n",
        "    # Step 1: Adjust prediction output\n",
        "    cell_grid   = get_cell_grid(GRID_W,GRID_H,BATCH_SIZE,BOX)\n",
        "    pred_box_xy, pred_box_wh, pred_box_conf, pred_box_class = adjust_scale_prediction(y_pred,cell_grid,ANCHORS)\n",
        "    # Step 2: Extract ground truth output\n",
        "    true_box_xy, true_box_wh, true_box_conf, true_box_class = extract_ground_truth(y_true)\n",
        "    # Step 3: Calculate loss for the bounding box parameters\n",
        "    loss_xywh, coord_mask = calc_loss_xywh(true_box_conf,LAMBDA_COORD,\n",
        "                                           true_box_xy, pred_box_xy,true_box_wh,pred_box_wh)\n",
        "    # Step 4: Calculate loss for the class probabilities\n",
        "    loss_class  = calc_loss_class(true_box_conf,LAMBDA_CLASS,\n",
        "                                   true_box_class,pred_box_class)\n",
        "    # Step 5: For each (grid cell, anchor) pair, \n",
        "    # calculate the IoU between predicted and ground truth bounding box\n",
        "    true_box_conf_IOU = calc_IOU_pred_true_assigned(true_box_conf,\n",
        "                                                    true_box_xy, true_box_wh,\n",
        "                                                    pred_box_xy, pred_box_wh)\n",
        "    # Step 6: For each predicted bounded box from (grid cell, anchor box), \n",
        "    # calculate the best IOU, regardless of the ground truth anchor box that each object gets assigned.\n",
        "    best_ious = calc_IOU_pred_true_best(pred_box_xy,pred_box_wh,true_boxes)\n",
        "    # Step 7: For each grid cell, calculate the L_{i,j}^{noobj}\n",
        "    conf_mask = get_conf_mask(best_ious, true_box_conf, true_box_conf_IOU,LAMBDA_NO_OBJECT, LAMBDA_OBJECT)\n",
        "    # Step 8: Calculate loss for the confidence\n",
        "    loss_conf = calc_loss_conf(conf_mask,true_box_conf_IOU, pred_box_conf)\n",
        "    \n",
        "    loss = loss_xywh + loss_conf + loss_class\n",
        "    return(loss)"
      ],
      "execution_count": null,
      "outputs": []
    },
    {
      "cell_type": "code",
      "metadata": {
        "id": "qPrI6gdNgSgi"
      },
      "source": [
        "def custom_loss(y_true, y_pred): # y_true : (N batch, N grid h, N grid w, N anchor, 4 + 1 + N classes)\n",
        " \n",
        "\n",
        "    total_recall = tf.Variable(0.)\n",
        "    \n",
        "    # Step 1: Adjust prediction output\n",
        "    cell_grid   = get_cell_grid(GRID_W,GRID_H,BATCH_SIZE,BOX)\n",
        "    pred_box_xy, pred_box_wh, pred_box_conf, pred_box_class = adjust_scale_prediction(y_pred,cell_grid,ANCHORS)\n",
        "\n",
        "    # Step 2: Extract ground truth output\n",
        "    true_box_xy, true_box_wh, true_box_conf, true_box_class = extract_ground_truth(y_true)\n",
        "\n",
        "    # Step 3: Calculate loss for the bounding box parameters\n",
        "    loss_xywh, coord_mask = calc_loss_xywh(true_box_conf,LAMBDA_COORD,\n",
        "                                           true_box_xy, pred_box_xy,true_box_wh,pred_box_wh)\n",
        "    # Step 4: Calculate loss for the class probabilities\n",
        "    loss_class  = calc_loss_class(true_box_conf,LAMBDA_CLASS,\n",
        "                                  true_box_class,pred_box_class)\n",
        "    \n",
        "    # Step 5: For each (grid cell, anchor) pair, \n",
        "    # calculate the IoU between predicted and ground truth bounding box\n",
        "    true_box_conf_IOU = calc_IOU_pred_true_assigned(true_box_conf,\n",
        "                                                    true_box_xy, true_box_wh,\n",
        "                                                    pred_box_xy, pred_box_wh)\n",
        "    \n",
        "    # Step 6: For each predicted bounded box from (grid cell, anchor box), \n",
        "    # calculate the best IOU, regardless of the ground truth anchor box that each object gets assigned.\n",
        "\n",
        "    best_ious = calc_IOU_pred_true_best(pred_box_xy,pred_box_wh,true_boxes)\n",
        "    # Step 7: For each grid cell, calculate the L_{i,j}^{noobj}\n",
        "    conf_mask = get_conf_mask(best_ious, true_box_conf, true_box_conf_IOU,LAMBDA_NO_OBJECT, LAMBDA_OBJECT)\n",
        "    \n",
        "    # Step 8: Calculate loss for the confidence\n",
        "    loss_conf = calc_loss_conf(conf_mask,true_box_conf_IOU, pred_box_conf)\n",
        "\n",
        "    \n",
        "    loss = loss_xywh + loss_conf + loss_class\n",
        "    \n",
        "\n",
        "    \n",
        "    return loss"
      ],
      "execution_count": null,
      "outputs": []
    },
    {
      "cell_type": "code",
      "metadata": {
        "id": "359QuR7zgVV0",
        "outputId": "1fb13e8f-beb7-4b8d-9778-2e83eb3e8f16",
        "colab": {
          "base_uri": "https://localhost:8080/",
          "height": 35
        }
      },
      "source": [
        "true_boxes = tf.Variable(np.zeros_like(b_batch),dtype=\"float32\")\n",
        "loss_tf    = custom_loss(y_batch_tf, y_pred_tf) \n",
        "with tf.Session() as sess:\n",
        "    loss = sess.run(loss_tf,\n",
        "                    feed_dict = {true_boxes: b_batch})\n",
        "loss"
      ],
      "execution_count": null,
      "outputs": [
        {
          "output_type": "execute_result",
          "data": {
            "text/plain": [
              "6.4061117"
            ]
          },
          "metadata": {
            "tags": []
          },
          "execution_count": 59
        }
      ]
    },
    {
      "cell_type": "code",
      "metadata": {
        "id": "TzEm5GtZgW1-"
      },
      "source": [
        ""
      ],
      "execution_count": null,
      "outputs": []
    },
    {
      "cell_type": "code",
      "metadata": {
        "id": "yrS-VBOydwjP"
      },
      "source": [
        "''''''''''''''''''''''''''''''''''''''  Part 4 ''''''''''''''''''''''''''''''''''''''''''''''"
      ],
      "execution_count": null,
      "outputs": []
    },
    {
      "cell_type": "code",
      "metadata": {
        "id": "yAnbbi6tew42"
      },
      "source": [
        "from numpy import *\n",
        "import numpy as np"
      ],
      "execution_count": null,
      "outputs": []
    },
    {
      "cell_type": "code",
      "metadata": {
        "id": "UgaciyVhhOzw"
      },
      "source": [
        "ANCHORS = np.array([1.07709888,  1.78171903,  # anchor box 1, width , height\n",
        "                    2.71054693,  5.12469308,  # anchor box 2, width,  height\n",
        "                   10.47181473, 10.09646365,  # anchor box 3, width,  height\n",
        "                    5.48531347,  8.11011331]) # anchor box 4, width,  height"
      ],
      "execution_count": null,
      "outputs": []
    },
    {
      "cell_type": "code",
      "metadata": {
        "id": "WGb_9nSohRGO"
      },
      "source": [
        "LABELS = ['aeroplane',  'bicycle', 'bird',  'boat',      'bottle', \n",
        "          'bus',        'car',      'cat',  'chair',     'cow',\n",
        "          'diningtable','dog',    'horse',  'motorbike', 'person',\n",
        "          'pottedplant','sheep',  'sofa',   'train',   'tvmonitor']"
      ],
      "execution_count": null,
      "outputs": []
    },
    {
      "cell_type": "code",
      "metadata": {
        "id": "Ped4QlrwhcRw"
      },
      "source": [
        "train_image_folder = \"/content/drive/My Drive/YOLO-objectdetection-Mina/voc2012_raw/VOCdevkit/VOC2012/JPEGImages/\"\n",
        "train_annot_folder = \"/content/drive/My Drive/YOLO-objectdetection-Mina/voc2012_raw/VOCdevkit/VOC2012/Annotations/\""
      ],
      "execution_count": null,
      "outputs": []
    },
    {
      "cell_type": "code",
      "metadata": {
        "id": "krQDxihi0IRA"
      },
      "source": [
        "import xml.etree.ElementTree as ET\n",
        "\n",
        "def parse_annotation(ann_dir, img_dir, labels=[]):\n",
        "\n",
        "    all_imgs = []\n",
        "    seen_labels = {}\n",
        "    \n",
        "    for ann in sorted(os.listdir(ann_dir)):\n",
        "        if \"xml\" not in ann:\n",
        "            continue\n",
        "        img = {'object':[]}\n",
        "\n",
        "        tree = ET.parse(ann_dir + ann)\n",
        "        \n",
        "        for elem in tree.iter():\n",
        "            if 'filename' in elem.tag:\n",
        "                path_to_image = img_dir + elem.text\n",
        "                img['filename'] = path_to_image\n",
        "                ## make sure that the image exists:\n",
        "                if not os.path.exists(path_to_image):\n",
        "                    assert False, \"file does not exist!\\n{}\".format(path_to_image)\n",
        "            if 'width' in elem.tag:\n",
        "                img['width'] = int(elem.text)\n",
        "            if 'height' in elem.tag:\n",
        "                img['height'] = int(elem.text)\n",
        "            if 'object' in elem.tag or 'part' in elem.tag:\n",
        "                obj = {}\n",
        "                \n",
        "                for attr in list(elem):\n",
        "                    if 'name' in attr.tag:\n",
        "                        \n",
        "                        obj['name'] = attr.text\n",
        "                        \n",
        "                        if len(labels) > 0 and obj['name'] not in labels:\n",
        "                            break\n",
        "                        else:\n",
        "                            img['object'] += [obj]\n",
        "                            \n",
        "                        \n",
        "\n",
        "                        if obj['name'] in seen_labels:\n",
        "                            seen_labels[obj['name']] += 1\n",
        "                        else:\n",
        "                            seen_labels[obj['name']]  = 1\n",
        "                        \n",
        "\n",
        "                            \n",
        "                    if 'bndbox' in attr.tag:\n",
        "                        for dim in list(attr):\n",
        "                            if 'xmin' in dim.tag:\n",
        "                                obj['xmin'] = int(round(float(dim.text)))\n",
        "                            if 'ymin' in dim.tag:\n",
        "                                obj['ymin'] = int(round(float(dim.text)))\n",
        "                            if 'xmax' in dim.tag:\n",
        "                                obj['xmax'] = int(round(float(dim.text)))\n",
        "                            if 'ymax' in dim.tag:\n",
        "                                obj['ymax'] = int(round(float(dim.text)))\n",
        "\n",
        "        if len(img['object']) > 0:\n",
        "            all_imgs += [img]\n",
        "                        \n",
        "    return all_imgs, seen_labels\n",
        "    \n",
        "    '''\n",
        "    output:\n",
        "    - Each element of the train_image is a dictionary containing the annoation infomation of an image.\n",
        "    - seen_train_labels is the dictionary containing\n",
        "            (key, value) = (the object class, the number of objects found in the images)\n",
        "    '''\n"
      ],
      "execution_count": null,
      "outputs": []
    },
    {
      "cell_type": "code",
      "metadata": {
        "id": "sgsjmQhsheAn",
        "outputId": "652407e2-c94e-4809-9c0c-3b567acdc3a3",
        "colab": {
          "base_uri": "https://localhost:8080/",
          "height": 35
        }
      },
      "source": [
        "np.random.seed(1)\n",
        "import os\n",
        "#from backend import parse_annotation\n",
        "train_image, seen_train_labels = parse_annotation(train_annot_folder,\n",
        "                                                  train_image_folder, \n",
        "                                                  labels=LABELS)\n",
        "print(\"Number of image for train = {}\".format(len(train_image)))"
      ],
      "execution_count": null,
      "outputs": [
        {
          "output_type": "stream",
          "text": [
            "Number of image for train = 17125\n"
          ],
          "name": "stdout"
        }
      ]
    },
    {
      "cell_type": "code",
      "metadata": {
        "id": "GWm0yN-nhjXC"
      },
      "source": [
        "#from backend import SimpleBatchGenerator\n",
        "\n",
        "BATCH_SIZE        = 200\n",
        "IMAGE_H, IMAGE_W  = 416, 416\n",
        "GRID_H,  GRID_W   = 13 , 13\n",
        "TRUE_BOX_BUFFER   = 50\n",
        "BOX               = int(len(ANCHORS)/2)\n",
        "\n",
        "generator_config = {\n",
        "    'IMAGE_H'         : IMAGE_H, \n",
        "    'IMAGE_W'         : IMAGE_W,\n",
        "    'GRID_H'          : GRID_H,  \n",
        "    'GRID_W'          : GRID_W,\n",
        "    'LABELS'          : LABELS,\n",
        "    'ANCHORS'         : ANCHORS,\n",
        "    'BATCH_SIZE'      : BATCH_SIZE,\n",
        "    'TRUE_BOX_BUFFER' : TRUE_BOX_BUFFER,\n",
        "}\n",
        "\n",
        "\n",
        "def normalize(image):\n",
        "    return image / 255.\n",
        "train_batch_generator = SimpleBatchGenerator(train_image, generator_config,\n",
        "                                             norm=normalize, shuffle=True)"
      ],
      "execution_count": null,
      "outputs": []
    },
    {
      "cell_type": "code",
      "metadata": {
        "id": "vLTay4PDhp5f",
        "outputId": "742bfe18-9101-46e1-fbc1-a5735b33dff8",
        "colab": {
          "base_uri": "https://localhost:8080/",
          "height": 1000
        }
      },
      "source": [
        "#from backend import define_YOLOv2, set_pretrained_weight, initialize_weight\n",
        "CLASS             = len(LABELS)\n",
        "model, true_boxes = define_YOLOv2(IMAGE_H, IMAGE_W, GRID_H, GRID_W, TRUE_BOX_BUFFER, BOX,CLASS, trainable=False)\n",
        "model.summary()"
      ],
      "execution_count": null,
      "outputs": [
        {
          "output_type": "stream",
          "text": [
            "Model: \"model_2\"\n",
            "__________________________________________________________________________________________________\n",
            "Layer (type)                    Output Shape         Param #     Connected to                     \n",
            "==================================================================================================\n",
            "input_image (InputLayer)        (None, 416, 416, 3)  0                                            \n",
            "__________________________________________________________________________________________________\n",
            "conv_1 (Conv2D)                 (None, 416, 416, 32) 864         input_image[0][0]                \n",
            "__________________________________________________________________________________________________\n",
            "norm_1 (BatchNormalization)     (None, 416, 416, 32) 128         conv_1[0][0]                     \n",
            "__________________________________________________________________________________________________\n",
            "leaky_re_lu_23 (LeakyReLU)      (None, 416, 416, 32) 0           norm_1[0][0]                     \n",
            "__________________________________________________________________________________________________\n",
            "maxpool1_416to208 (MaxPooling2D (None, 208, 208, 32) 0           leaky_re_lu_23[0][0]             \n",
            "__________________________________________________________________________________________________\n",
            "conv_2 (Conv2D)                 (None, 208, 208, 64) 18432       maxpool1_416to208[0][0]          \n",
            "__________________________________________________________________________________________________\n",
            "norm_2 (BatchNormalization)     (None, 208, 208, 64) 256         conv_2[0][0]                     \n",
            "__________________________________________________________________________________________________\n",
            "leaky_re_lu_24 (LeakyReLU)      (None, 208, 208, 64) 0           norm_2[0][0]                     \n",
            "__________________________________________________________________________________________________\n",
            "maxpool1_208to104 (MaxPooling2D (None, 104, 104, 64) 0           leaky_re_lu_24[0][0]             \n",
            "__________________________________________________________________________________________________\n",
            "conv_3 (Conv2D)                 (None, 104, 104, 128 73728       maxpool1_208to104[0][0]          \n",
            "__________________________________________________________________________________________________\n",
            "norm_3 (BatchNormalization)     (None, 104, 104, 128 512         conv_3[0][0]                     \n",
            "__________________________________________________________________________________________________\n",
            "leaky_re_lu_25 (LeakyReLU)      (None, 104, 104, 128 0           norm_3[0][0]                     \n",
            "__________________________________________________________________________________________________\n",
            "conv_4 (Conv2D)                 (None, 104, 104, 64) 8192        leaky_re_lu_25[0][0]             \n",
            "__________________________________________________________________________________________________\n",
            "norm_4 (BatchNormalization)     (None, 104, 104, 64) 256         conv_4[0][0]                     \n",
            "__________________________________________________________________________________________________\n",
            "leaky_re_lu_26 (LeakyReLU)      (None, 104, 104, 64) 0           norm_4[0][0]                     \n",
            "__________________________________________________________________________________________________\n",
            "conv_5 (Conv2D)                 (None, 104, 104, 128 73728       leaky_re_lu_26[0][0]             \n",
            "__________________________________________________________________________________________________\n",
            "norm_5 (BatchNormalization)     (None, 104, 104, 128 512         conv_5[0][0]                     \n",
            "__________________________________________________________________________________________________\n",
            "leaky_re_lu_27 (LeakyReLU)      (None, 104, 104, 128 0           norm_5[0][0]                     \n",
            "__________________________________________________________________________________________________\n",
            "maxpool1_104to52 (MaxPooling2D) (None, 52, 52, 128)  0           leaky_re_lu_27[0][0]             \n",
            "__________________________________________________________________________________________________\n",
            "conv_6 (Conv2D)                 (None, 52, 52, 256)  294912      maxpool1_104to52[0][0]           \n",
            "__________________________________________________________________________________________________\n",
            "norm_6 (BatchNormalization)     (None, 52, 52, 256)  1024        conv_6[0][0]                     \n",
            "__________________________________________________________________________________________________\n",
            "leaky_re_lu_28 (LeakyReLU)      (None, 52, 52, 256)  0           norm_6[0][0]                     \n",
            "__________________________________________________________________________________________________\n",
            "conv_7 (Conv2D)                 (None, 52, 52, 128)  32768       leaky_re_lu_28[0][0]             \n",
            "__________________________________________________________________________________________________\n",
            "norm_7 (BatchNormalization)     (None, 52, 52, 128)  512         conv_7[0][0]                     \n",
            "__________________________________________________________________________________________________\n",
            "leaky_re_lu_29 (LeakyReLU)      (None, 52, 52, 128)  0           norm_7[0][0]                     \n",
            "__________________________________________________________________________________________________\n",
            "conv_8 (Conv2D)                 (None, 52, 52, 256)  294912      leaky_re_lu_29[0][0]             \n",
            "__________________________________________________________________________________________________\n",
            "norm_8 (BatchNormalization)     (None, 52, 52, 256)  1024        conv_8[0][0]                     \n",
            "__________________________________________________________________________________________________\n",
            "leaky_re_lu_30 (LeakyReLU)      (None, 52, 52, 256)  0           norm_8[0][0]                     \n",
            "__________________________________________________________________________________________________\n",
            "maxpool1_52to26 (MaxPooling2D)  (None, 26, 26, 256)  0           leaky_re_lu_30[0][0]             \n",
            "__________________________________________________________________________________________________\n",
            "conv_9 (Conv2D)                 (None, 26, 26, 512)  1179648     maxpool1_52to26[0][0]            \n",
            "__________________________________________________________________________________________________\n",
            "norm_9 (BatchNormalization)     (None, 26, 26, 512)  2048        conv_9[0][0]                     \n",
            "__________________________________________________________________________________________________\n",
            "leaky_re_lu_31 (LeakyReLU)      (None, 26, 26, 512)  0           norm_9[0][0]                     \n",
            "__________________________________________________________________________________________________\n",
            "conv_10 (Conv2D)                (None, 26, 26, 256)  131072      leaky_re_lu_31[0][0]             \n",
            "__________________________________________________________________________________________________\n",
            "norm_10 (BatchNormalization)    (None, 26, 26, 256)  1024        conv_10[0][0]                    \n",
            "__________________________________________________________________________________________________\n",
            "leaky_re_lu_32 (LeakyReLU)      (None, 26, 26, 256)  0           norm_10[0][0]                    \n",
            "__________________________________________________________________________________________________\n",
            "conv_11 (Conv2D)                (None, 26, 26, 512)  1179648     leaky_re_lu_32[0][0]             \n",
            "__________________________________________________________________________________________________\n",
            "norm_11 (BatchNormalization)    (None, 26, 26, 512)  2048        conv_11[0][0]                    \n",
            "__________________________________________________________________________________________________\n",
            "leaky_re_lu_33 (LeakyReLU)      (None, 26, 26, 512)  0           norm_11[0][0]                    \n",
            "__________________________________________________________________________________________________\n",
            "conv_12 (Conv2D)                (None, 26, 26, 256)  131072      leaky_re_lu_33[0][0]             \n",
            "__________________________________________________________________________________________________\n",
            "norm_12 (BatchNormalization)    (None, 26, 26, 256)  1024        conv_12[0][0]                    \n",
            "__________________________________________________________________________________________________\n",
            "leaky_re_lu_34 (LeakyReLU)      (None, 26, 26, 256)  0           norm_12[0][0]                    \n",
            "__________________________________________________________________________________________________\n",
            "conv_13 (Conv2D)                (None, 26, 26, 512)  1179648     leaky_re_lu_34[0][0]             \n",
            "__________________________________________________________________________________________________\n",
            "norm_13 (BatchNormalization)    (None, 26, 26, 512)  2048        conv_13[0][0]                    \n",
            "__________________________________________________________________________________________________\n",
            "leaky_re_lu_35 (LeakyReLU)      (None, 26, 26, 512)  0           norm_13[0][0]                    \n",
            "__________________________________________________________________________________________________\n",
            "maxpool1_26to13 (MaxPooling2D)  (None, 13, 13, 512)  0           leaky_re_lu_35[0][0]             \n",
            "__________________________________________________________________________________________________\n",
            "conv_14 (Conv2D)                (None, 13, 13, 1024) 4718592     maxpool1_26to13[0][0]            \n",
            "__________________________________________________________________________________________________\n",
            "norm_14 (BatchNormalization)    (None, 13, 13, 1024) 4096        conv_14[0][0]                    \n",
            "__________________________________________________________________________________________________\n",
            "leaky_re_lu_36 (LeakyReLU)      (None, 13, 13, 1024) 0           norm_14[0][0]                    \n",
            "__________________________________________________________________________________________________\n",
            "conv_15 (Conv2D)                (None, 13, 13, 512)  524288      leaky_re_lu_36[0][0]             \n",
            "__________________________________________________________________________________________________\n",
            "norm_15 (BatchNormalization)    (None, 13, 13, 512)  2048        conv_15[0][0]                    \n",
            "__________________________________________________________________________________________________\n",
            "leaky_re_lu_37 (LeakyReLU)      (None, 13, 13, 512)  0           norm_15[0][0]                    \n",
            "__________________________________________________________________________________________________\n",
            "conv_16 (Conv2D)                (None, 13, 13, 1024) 4718592     leaky_re_lu_37[0][0]             \n",
            "__________________________________________________________________________________________________\n",
            "norm_16 (BatchNormalization)    (None, 13, 13, 1024) 4096        conv_16[0][0]                    \n",
            "__________________________________________________________________________________________________\n",
            "leaky_re_lu_38 (LeakyReLU)      (None, 13, 13, 1024) 0           norm_16[0][0]                    \n",
            "__________________________________________________________________________________________________\n",
            "conv_17 (Conv2D)                (None, 13, 13, 512)  524288      leaky_re_lu_38[0][0]             \n",
            "__________________________________________________________________________________________________\n",
            "norm_17 (BatchNormalization)    (None, 13, 13, 512)  2048        conv_17[0][0]                    \n",
            "__________________________________________________________________________________________________\n",
            "leaky_re_lu_39 (LeakyReLU)      (None, 13, 13, 512)  0           norm_17[0][0]                    \n",
            "__________________________________________________________________________________________________\n",
            "conv_18 (Conv2D)                (None, 13, 13, 1024) 4718592     leaky_re_lu_39[0][0]             \n",
            "__________________________________________________________________________________________________\n",
            "norm_18 (BatchNormalization)    (None, 13, 13, 1024) 4096        conv_18[0][0]                    \n",
            "__________________________________________________________________________________________________\n",
            "leaky_re_lu_40 (LeakyReLU)      (None, 13, 13, 1024) 0           norm_18[0][0]                    \n",
            "__________________________________________________________________________________________________\n",
            "conv_19 (Conv2D)                (None, 13, 13, 1024) 9437184     leaky_re_lu_40[0][0]             \n",
            "__________________________________________________________________________________________________\n",
            "norm_19 (BatchNormalization)    (None, 13, 13, 1024) 4096        conv_19[0][0]                    \n",
            "__________________________________________________________________________________________________\n",
            "conv_21 (Conv2D)                (None, 26, 26, 64)   32768       leaky_re_lu_35[0][0]             \n",
            "__________________________________________________________________________________________________\n",
            "leaky_re_lu_41 (LeakyReLU)      (None, 13, 13, 1024) 0           norm_19[0][0]                    \n",
            "__________________________________________________________________________________________________\n",
            "norm_21 (BatchNormalization)    (None, 26, 26, 64)   256         conv_21[0][0]                    \n",
            "__________________________________________________________________________________________________\n",
            "conv_20 (Conv2D)                (None, 13, 13, 1024) 9437184     leaky_re_lu_41[0][0]             \n",
            "__________________________________________________________________________________________________\n",
            "leaky_re_lu_43 (LeakyReLU)      (None, 26, 26, 64)   0           norm_21[0][0]                    \n",
            "__________________________________________________________________________________________________\n",
            "norm_20 (BatchNormalization)    (None, 13, 13, 1024) 4096        conv_20[0][0]                    \n",
            "__________________________________________________________________________________________________\n",
            "lambda_2 (Lambda)               (None, 13, 13, 256)  0           leaky_re_lu_43[0][0]             \n",
            "__________________________________________________________________________________________________\n",
            "leaky_re_lu_42 (LeakyReLU)      (None, 13, 13, 1024) 0           norm_20[0][0]                    \n",
            "__________________________________________________________________________________________________\n",
            "concatenate_2 (Concatenate)     (None, 13, 13, 1280) 0           lambda_2[0][0]                   \n",
            "                                                                 leaky_re_lu_42[0][0]             \n",
            "__________________________________________________________________________________________________\n",
            "conv_22 (Conv2D)                (None, 13, 13, 1024) 11796480    concatenate_2[0][0]              \n",
            "__________________________________________________________________________________________________\n",
            "norm_22 (BatchNormalization)    (None, 13, 13, 1024) 4096        conv_22[0][0]                    \n",
            "__________________________________________________________________________________________________\n",
            "leaky_re_lu_44 (LeakyReLU)      (None, 13, 13, 1024) 0           norm_22[0][0]                    \n",
            "__________________________________________________________________________________________________\n",
            "conv_23 (Conv2D)                (None, 13, 13, 100)  102500      leaky_re_lu_44[0][0]             \n",
            "__________________________________________________________________________________________________\n",
            "final_output (Reshape)          (None, 13, 13, 4, 25 0           conv_23[0][0]                    \n",
            "__________________________________________________________________________________________________\n",
            "input_hack (InputLayer)         (None, 1, 1, 1, 50,  0                                            \n",
            "__________________________________________________________________________________________________\n",
            "hack_layer (Lambda)             (None, 13, 13, 4, 25 0           final_output[0][0]               \n",
            "                                                                 input_hack[0][0]                 \n",
            "==================================================================================================\n",
            "Total params: 50,650,436\n",
            "Trainable params: 102,500\n",
            "Non-trainable params: 50,547,936\n",
            "__________________________________________________________________________________________________\n"
          ],
          "name": "stdout"
        }
      ]
    },
    {
      "cell_type": "code",
      "metadata": {
        "id": "dD75sP7zgc0u"
      },
      "source": [
        "path_to_weight = \"./yolov2.weights\"\n",
        "nb_conv        = 22\n",
        "model          = set_pretrained_weight(model,nb_conv, path_to_weight)\n",
        "layer          = model.layers[-4] # the last convolutional layer\n",
        "initialize_weight(layer,sd=1/(GRID_H*GRID_W))"
      ],
      "execution_count": null,
      "outputs": []
    },
    {
      "cell_type": "code",
      "metadata": {
        "id": "1sEzViQP2DLD"
      },
      "source": [
        "!pip install backend"
      ],
      "execution_count": null,
      "outputs": []
    },
    {
      "cell_type": "code",
      "metadata": {
        "id": "uWaVJNCMguHV",
        "outputId": "859cd4f2-45d6-4bb2-aa98-ffaf0a7a9281",
        "colab": {
          "base_uri": "https://localhost:8080/",
          "height": 90
        }
      },
      "source": [
        "#from backend import custom_loss_core \n",
        "help(custom_loss_core)"
      ],
      "execution_count": null,
      "outputs": [
        {
          "output_type": "stream",
          "text": [
            "Help on function custom_loss_core in module __main__:\n",
            "\n",
            "custom_loss_core(y_true, y_pred, true_boxes, GRID_W, GRID_H, BATCH_SIZE, ANCHORS, LAMBDA_COORD, LAMBDA_CLASS, LAMBDA_NO_OBJECT, LAMBDA_OBJECT)\n",
            "\n"
          ],
          "name": "stdout"
        }
      ]
    },
    {
      "cell_type": "code",
      "metadata": {
        "id": "6VGs0DDl4Xpl"
      },
      "source": [
        "def custom_loss_core(y_true,\n",
        "                     y_pred,\n",
        "                     true_boxes,\n",
        "                     GRID_W,\n",
        "                     GRID_H,\n",
        "                     BATCH_SIZE,\n",
        "                     ANCHORS,\n",
        "                     LAMBDA_COORD,\n",
        "                     LAMBDA_CLASS,\n",
        "                     LAMBDA_NO_OBJECT, \n",
        "                     LAMBDA_OBJECT):\n",
        "\n",
        "    BOX = int(len(ANCHORS)/2)    \n",
        "    # Step 1: Adjust prediction output\n",
        "    cell_grid   = get_cell_grid(GRID_W,GRID_H,BATCH_SIZE,BOX)\n",
        "    pred_box_xy, pred_box_wh, pred_box_conf, pred_box_class = adjust_scale_prediction(y_pred,cell_grid,ANCHORS)\n",
        "\n",
        "    # Step 2: Extract ground truth output\n",
        "    true_box_xy, true_box_wh, true_box_conf, true_box_class = extract_ground_truth(y_true)\n",
        "\n",
        "    # Step 3: Calculate loss for the bounding box parameters\n",
        "    loss_xywh, coord_mask = calc_loss_xywh(true_box_conf,LAMBDA_COORD,\n",
        "                                           true_box_xy, pred_box_xy,true_box_wh,pred_box_wh)\n",
        "    \n",
        "    # Step 4: Calculate loss for the class probabilities\n",
        "    loss_class  = calc_loss_class(true_box_conf,LAMBDA_CLASS,\n",
        "                                   true_box_class,pred_box_class)\n",
        "    \n",
        "    # Step 5: For each (grid cell, anchor) pair, \n",
        "    # calculate the IoU between predicted and ground truth bounding box\n",
        "    true_box_conf_IOU = calc_IOU_pred_true_assigned(true_box_conf,\n",
        "                                                    true_box_xy, true_box_wh,\n",
        "                                                    pred_box_xy, pred_box_wh)\n",
        "    \n",
        "    # Step 6: For each predicted bounded box from (grid cell, anchor box), \n",
        "    # calculate the best IOU, regardless of the ground truth anchor box that each object gets assigned.\n",
        "    best_ious = calc_IOU_pred_true_best(pred_box_xy,pred_box_wh,true_boxes)\n",
        "\n",
        "    # Step 7: For each grid cell, calculate the L_{i,j}^{noobj}\n",
        "    conf_mask = get_conf_mask(best_ious, true_box_conf, true_box_conf_IOU,LAMBDA_NO_OBJECT, LAMBDA_OBJECT)\n",
        "    \n",
        "    # Step 8: Calculate loss for the confidence\n",
        "    loss_conf = calc_loss_conf(conf_mask,true_box_conf_IOU, pred_box_conf)\n",
        "    \n",
        "    loss = loss_xywh + loss_conf + loss_class\n",
        "    return(loss)"
      ],
      "execution_count": null,
      "outputs": []
    },
    {
      "cell_type": "code",
      "metadata": {
        "id": "enex_12Tgzkq"
      },
      "source": [
        "GRID_W             = 13\n",
        "GRID_H             = 13\n",
        "BATCH_SIZE         = 34\n",
        "LAMBDA_NO_OBJECT = 1.0\n",
        "LAMBDA_OBJECT    = 5.0\n",
        "LAMBDA_COORD     = 1.0\n",
        "LAMBDA_CLASS     = 1.0\n",
        "    \n",
        "def custom_loss(y_true, y_pred):\n",
        "    return(custom_loss_core(\n",
        "                     y_true,\n",
        "                     y_pred,\n",
        "                     true_boxes,\n",
        "                     GRID_W,\n",
        "                     GRID_H,\n",
        "                     BATCH_SIZE,\n",
        "                     ANCHORS,\n",
        "                     LAMBDA_COORD,\n",
        "                     LAMBDA_CLASS,\n",
        "                     LAMBDA_NO_OBJECT, \n",
        "                     LAMBDA_OBJECT))"
      ],
      "execution_count": null,
      "outputs": []
    },
    {
      "cell_type": "code",
      "metadata": {
        "id": "TexzrtDhg3MN",
        "outputId": "3e332380-66d0-4085-bc4e-3ae5d0214269",
        "colab": {
          "base_uri": "https://localhost:8080/",
          "height": 72
        }
      },
      "source": [
        "from keras.callbacks import EarlyStopping, ModelCheckpoint\n",
        "from keras.optimizers import SGD, Adam, RMSprop\n",
        "\n",
        "dir_log = \"logs/\"\n",
        "try:\n",
        "    os.makedirs(dir_log)\n",
        "except:\n",
        "    pass\n",
        "\n",
        "\n",
        "BATCH_SIZE   = 32\n",
        "generator_config['BATCH_SIZE'] = BATCH_SIZE\n",
        "\n",
        "early_stop = EarlyStopping(monitor='loss', \n",
        "                           min_delta=0.001, \n",
        "                           patience=3, \n",
        "                           mode='min', \n",
        "                           verbose=1)\n",
        "\n",
        "checkpoint = ModelCheckpoint('weights_yolo_on_voc2012.h5', \n",
        "                             monitor='loss', \n",
        "                             verbose=1, \n",
        "                             save_best_only=True, \n",
        "                             mode='min', \n",
        "                             period=1)\n",
        "\n",
        "\n",
        "optimizer = Adam(lr=0.5e-4, beta_1=0.9, beta_2=0.999, epsilon=1e-08, decay=0.0)\n",
        "#optimizer = SGD(lr=1e-4, decay=0.0005, momentum=0.9)\n",
        "#optimizer = RMSprop(lr=1e-4, rho=0.9, epsilon=1e-08, decay=0.0)\n",
        "\n",
        "model.compile(loss=custom_loss, optimizer=optimizer)"
      ],
      "execution_count": null,
      "outputs": [
        {
          "output_type": "stream",
          "text": [
            "WARNING:tensorflow:From /usr/local/lib/python3.6/dist-packages/keras/optimizers.py:793: The name tf.train.Optimizer is deprecated. Please use tf.compat.v1.train.Optimizer instead.\n",
            "\n"
          ],
          "name": "stdout"
        }
      ]
    },
    {
      "cell_type": "code",
      "metadata": {
        "id": "g_BnszvJhCKz",
        "outputId": "b628d719-d4a0-48d9-a494-6f3b87c6effd",
        "colab": {
          "base_uri": "https://localhost:8080/",
          "height": 1000
        }
      },
      "source": [
        "                               (generator        = train_batch_generator, \n",
        "                    steps_per_epoch  = len(train_batch_generator), \n",
        "                    epochs           = 50, \n",
        "                    verbose          = 1,\n",
        "                    #validation_data  = valid_batch,\n",
        "                    callbacks        = [early_stop, checkpoint], \n",
        "                    max_queue_size   = 3)"
      ],
      "execution_count": null,
      "outputs": [
        {
          "output_type": "stream",
          "text": [
            "WARNING:tensorflow:From /tensorflow-1.15.2/python3.6/tensorflow_core/python/ops/math_grad.py:1424: where (from tensorflow.python.ops.array_ops) is deprecated and will be removed in a future version.\n",
            "Instructions for updating:\n",
            "Use tf.where in 2.0, which has the same broadcast rule as np.where\n",
            "WARNING:tensorflow:From /usr/local/lib/python3.6/dist-packages/keras/backend/tensorflow_backend.py:1033: The name tf.assign_add is deprecated. Please use tf.compat.v1.assign_add instead.\n",
            "\n",
            "WARNING:tensorflow:From /usr/local/lib/python3.6/dist-packages/keras/backend/tensorflow_backend.py:1020: The name tf.assign is deprecated. Please use tf.compat.v1.assign instead.\n",
            "\n",
            "Epoch 1/50\n",
            "536/536 [==============================] - 348s 649ms/step - loss: 3.4166\n",
            "\n",
            "Epoch 00001: loss improved from inf to 3.41661, saving model to weights_yolo_on_voc2012.h5\n",
            "Epoch 2/50\n",
            "536/536 [==============================] - 324s 604ms/step - loss: 2.2473\n",
            "\n",
            "Epoch 00002: loss improved from 3.41661 to 2.24726, saving model to weights_yolo_on_voc2012.h5\n",
            "Epoch 3/50\n",
            "536/536 [==============================] - 340s 634ms/step - loss: 1.8175\n",
            "\n",
            "Epoch 00003: loss improved from 2.24726 to 1.81746, saving model to weights_yolo_on_voc2012.h5\n",
            "Epoch 4/50\n",
            "536/536 [==============================] - 317s 592ms/step - loss: 1.5724\n",
            "\n",
            "Epoch 00004: loss improved from 1.81746 to 1.57237, saving model to weights_yolo_on_voc2012.h5\n",
            "Epoch 5/50\n",
            "536/536 [==============================] - 317s 591ms/step - loss: 1.4169\n",
            "\n",
            "Epoch 00005: loss improved from 1.57237 to 1.41688, saving model to weights_yolo_on_voc2012.h5\n",
            "Epoch 6/50\n",
            "536/536 [==============================] - 316s 590ms/step - loss: 1.3060\n",
            "\n",
            "Epoch 00006: loss improved from 1.41688 to 1.30596, saving model to weights_yolo_on_voc2012.h5\n",
            "Epoch 7/50\n",
            "536/536 [==============================] - 321s 598ms/step - loss: 1.2304\n",
            "\n",
            "Epoch 00007: loss improved from 1.30596 to 1.23043, saving model to weights_yolo_on_voc2012.h5\n",
            "Epoch 8/50\n",
            "536/536 [==============================] - 320s 598ms/step - loss: 1.1700\n",
            "\n",
            "Epoch 00008: loss improved from 1.23043 to 1.17001, saving model to weights_yolo_on_voc2012.h5\n",
            "Epoch 9/50\n",
            "536/536 [==============================] - 318s 594ms/step - loss: 1.1226\n",
            "\n",
            "Epoch 00009: loss improved from 1.17001 to 1.12264, saving model to weights_yolo_on_voc2012.h5\n",
            "Epoch 10/50\n",
            "536/536 [==============================] - 318s 593ms/step - loss: 1.0847\n",
            "\n",
            "Epoch 00010: loss improved from 1.12264 to 1.08466, saving model to weights_yolo_on_voc2012.h5\n",
            "Epoch 11/50\n",
            "536/536 [==============================] - 319s 594ms/step - loss: 1.0531\n",
            "\n",
            "Epoch 00011: loss improved from 1.08466 to 1.05314, saving model to weights_yolo_on_voc2012.h5\n",
            "Epoch 12/50\n",
            "536/536 [==============================] - 321s 598ms/step - loss: 1.0268\n",
            "\n",
            "Epoch 00012: loss improved from 1.05314 to 1.02681, saving model to weights_yolo_on_voc2012.h5\n",
            "Epoch 13/50\n",
            "536/536 [==============================] - 320s 598ms/step - loss: 1.0022\n",
            "\n",
            "Epoch 00013: loss improved from 1.02681 to 1.00220, saving model to weights_yolo_on_voc2012.h5\n",
            "Epoch 14/50\n",
            "536/536 [==============================] - 321s 598ms/step - loss: 0.9842\n",
            "\n",
            "Epoch 00014: loss improved from 1.00220 to 0.98422, saving model to weights_yolo_on_voc2012.h5\n",
            "Epoch 15/50\n",
            "536/536 [==============================] - 324s 604ms/step - loss: 0.9692\n",
            "\n",
            "Epoch 00015: loss improved from 0.98422 to 0.96924, saving model to weights_yolo_on_voc2012.h5\n",
            "Epoch 16/50\n",
            "536/536 [==============================] - 325s 606ms/step - loss: 0.9493\n",
            "\n",
            "Epoch 00016: loss improved from 0.96924 to 0.94932, saving model to weights_yolo_on_voc2012.h5\n",
            "Epoch 17/50\n",
            "536/536 [==============================] - 328s 612ms/step - loss: 0.9355\n",
            "\n",
            "Epoch 00017: loss improved from 0.94932 to 0.93548, saving model to weights_yolo_on_voc2012.h5\n",
            "Epoch 18/50\n",
            "536/536 [==============================] - 334s 624ms/step - loss: 0.9232\n",
            "\n",
            "Epoch 00018: loss improved from 0.93548 to 0.92320, saving model to weights_yolo_on_voc2012.h5\n",
            "Epoch 19/50\n",
            "536/536 [==============================] - 333s 621ms/step - loss: 0.9149\n",
            "\n",
            "Epoch 00019: loss improved from 0.92320 to 0.91490, saving model to weights_yolo_on_voc2012.h5\n",
            "Epoch 20/50\n",
            "536/536 [==============================] - 328s 611ms/step - loss: 0.9026\n",
            "\n",
            "Epoch 00020: loss improved from 0.91490 to 0.90255, saving model to weights_yolo_on_voc2012.h5\n",
            "Epoch 21/50\n",
            "536/536 [==============================] - 326s 608ms/step - loss: 0.8946\n",
            "\n",
            "Epoch 00021: loss improved from 0.90255 to 0.89464, saving model to weights_yolo_on_voc2012.h5\n",
            "Epoch 22/50\n",
            "536/536 [==============================] - 326s 607ms/step - loss: 0.8906\n",
            "\n",
            "Epoch 00022: loss improved from 0.89464 to 0.89059, saving model to weights_yolo_on_voc2012.h5\n",
            "Epoch 23/50\n",
            "536/536 [==============================] - 326s 609ms/step - loss: 0.8813\n",
            "\n",
            "Epoch 00023: loss improved from 0.89059 to 0.88131, saving model to weights_yolo_on_voc2012.h5\n",
            "Epoch 24/50\n",
            "536/536 [==============================] - 334s 623ms/step - loss: 0.8737\n",
            "\n",
            "Epoch 00024: loss improved from 0.88131 to 0.87367, saving model to weights_yolo_on_voc2012.h5\n",
            "Epoch 25/50\n",
            "536/536 [==============================] - 327s 610ms/step - loss: 0.8655\n",
            "\n",
            "Epoch 00025: loss improved from 0.87367 to 0.86546, saving model to weights_yolo_on_voc2012.h5\n",
            "Epoch 26/50\n",
            "536/536 [==============================] - 327s 610ms/step - loss: 0.8595\n",
            "\n",
            "Epoch 00026: loss improved from 0.86546 to 0.85948, saving model to weights_yolo_on_voc2012.h5\n",
            "Epoch 27/50\n",
            "536/536 [==============================] - 328s 612ms/step - loss: 0.8500\n",
            "\n",
            "Epoch 00027: loss improved from 0.85948 to 0.84998, saving model to weights_yolo_on_voc2012.h5\n",
            "Epoch 28/50\n",
            "536/536 [==============================] - 320s 596ms/step - loss: 0.8507\n",
            "\n",
            "Epoch 00028: loss did not improve from 0.84998\n",
            "Epoch 29/50\n",
            "536/536 [==============================] - 319s 594ms/step - loss: 0.8417\n",
            "\n",
            "Epoch 00029: loss improved from 0.84998 to 0.84174, saving model to weights_yolo_on_voc2012.h5\n",
            "Epoch 30/50\n",
            "536/536 [==============================] - 318s 593ms/step - loss: 0.8376\n",
            "\n",
            "Epoch 00030: loss improved from 0.84174 to 0.83758, saving model to weights_yolo_on_voc2012.h5\n",
            "Epoch 31/50\n",
            "536/536 [==============================] - 323s 602ms/step - loss: 0.8353\n",
            "\n",
            "Epoch 00031: loss improved from 0.83758 to 0.83534, saving model to weights_yolo_on_voc2012.h5\n",
            "Epoch 32/50\n",
            "536/536 [==============================] - 325s 607ms/step - loss: 0.8281\n",
            "\n",
            "Epoch 00032: loss improved from 0.83534 to 0.82813, saving model to weights_yolo_on_voc2012.h5\n",
            "Epoch 33/50\n",
            "536/536 [==============================] - 322s 601ms/step - loss: 0.8211\n",
            "\n",
            "Epoch 00033: loss improved from 0.82813 to 0.82113, saving model to weights_yolo_on_voc2012.h5\n",
            "Epoch 34/50\n",
            "536/536 [==============================] - 328s 611ms/step - loss: 0.8214\n",
            "\n",
            "Epoch 00034: loss did not improve from 0.82113\n",
            "Epoch 35/50\n",
            "536/536 [==============================] - 337s 630ms/step - loss: 0.8152\n",
            "\n",
            "Epoch 00035: loss improved from 0.82113 to 0.81519, saving model to weights_yolo_on_voc2012.h5\n",
            "Epoch 36/50\n",
            "536/536 [==============================] - 329s 614ms/step - loss: 0.8080\n",
            "\n",
            "Epoch 00036: loss improved from 0.81519 to 0.80805, saving model to weights_yolo_on_voc2012.h5\n",
            "Epoch 37/50\n",
            "210/536 [==========>...................] - ETA: 3:19 - loss: 0.8092"
          ],
          "name": "stdout"
        }
      ]
    }
  ]
}
